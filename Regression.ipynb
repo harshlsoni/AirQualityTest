{
 "cells": [
  {
   "cell_type": "code",
   "execution_count": 176,
   "metadata": {},
   "outputs": [],
   "source": [
    "# importing the necessary libraries\n",
    "import pandas as pd\n",
    "import numpy as np\n",
    "import matplotlib.pyplot as plt\n",
    "import seaborn as sns"
   ]
  },
  {
   "cell_type": "markdown",
   "metadata": {},
   "source": [
    "## Data Preprocessing"
   ]
  },
  {
   "cell_type": "code",
   "execution_count": 177,
   "metadata": {},
   "outputs": [],
   "source": [
    "df = pd.read_csv('AirQualityUCI.csv', delimiter=';')\n",
    "df['C6H6(GT)'] = df['C6H6(GT)'].str.replace(',','.')\n",
    "df['CO(GT)'] = df['CO(GT)'].str.replace(',','.')\n",
    "df['T'] = df['T'].str.replace(',','.')\n",
    "df['RH'] = df['RH'].str.replace(',','.')\n",
    "df['AH'] = df['AH'].str.replace(',','.')"
   ]
  },
  {
   "cell_type": "code",
   "execution_count": 178,
   "metadata": {},
   "outputs": [
    {
     "data": {
      "text/html": [
       "<div>\n",
       "<style scoped>\n",
       "    .dataframe tbody tr th:only-of-type {\n",
       "        vertical-align: middle;\n",
       "    }\n",
       "\n",
       "    .dataframe tbody tr th {\n",
       "        vertical-align: top;\n",
       "    }\n",
       "\n",
       "    .dataframe thead th {\n",
       "        text-align: right;\n",
       "    }\n",
       "</style>\n",
       "<table border=\"1\" class=\"dataframe\">\n",
       "  <thead>\n",
       "    <tr style=\"text-align: right;\">\n",
       "      <th></th>\n",
       "      <th>Date</th>\n",
       "      <th>Time</th>\n",
       "      <th>CO(GT)</th>\n",
       "      <th>PT08.S1(CO)</th>\n",
       "      <th>NMHC(GT)</th>\n",
       "      <th>C6H6(GT)</th>\n",
       "      <th>PT08.S2(NMHC)</th>\n",
       "      <th>NOx(GT)</th>\n",
       "      <th>PT08.S3(NOx)</th>\n",
       "      <th>NO2(GT)</th>\n",
       "      <th>PT08.S4(NO2)</th>\n",
       "      <th>PT08.S5(O3)</th>\n",
       "      <th>T</th>\n",
       "      <th>RH</th>\n",
       "      <th>AH</th>\n",
       "      <th>Unnamed: 15</th>\n",
       "      <th>Unnamed: 16</th>\n",
       "    </tr>\n",
       "  </thead>\n",
       "  <tbody>\n",
       "    <tr>\n",
       "      <th>0</th>\n",
       "      <td>10/03/2004</td>\n",
       "      <td>18.00.00</td>\n",
       "      <td>2.6</td>\n",
       "      <td>1360.0</td>\n",
       "      <td>150.0</td>\n",
       "      <td>11.9</td>\n",
       "      <td>1046.0</td>\n",
       "      <td>166.0</td>\n",
       "      <td>1056.0</td>\n",
       "      <td>113.0</td>\n",
       "      <td>1692.0</td>\n",
       "      <td>1268.0</td>\n",
       "      <td>13.6</td>\n",
       "      <td>48.9</td>\n",
       "      <td>0.7578</td>\n",
       "      <td>NaN</td>\n",
       "      <td>NaN</td>\n",
       "    </tr>\n",
       "    <tr>\n",
       "      <th>1</th>\n",
       "      <td>10/03/2004</td>\n",
       "      <td>19.00.00</td>\n",
       "      <td>2</td>\n",
       "      <td>1292.0</td>\n",
       "      <td>112.0</td>\n",
       "      <td>9.4</td>\n",
       "      <td>955.0</td>\n",
       "      <td>103.0</td>\n",
       "      <td>1174.0</td>\n",
       "      <td>92.0</td>\n",
       "      <td>1559.0</td>\n",
       "      <td>972.0</td>\n",
       "      <td>13.3</td>\n",
       "      <td>47.7</td>\n",
       "      <td>0.7255</td>\n",
       "      <td>NaN</td>\n",
       "      <td>NaN</td>\n",
       "    </tr>\n",
       "    <tr>\n",
       "      <th>2</th>\n",
       "      <td>10/03/2004</td>\n",
       "      <td>20.00.00</td>\n",
       "      <td>2.2</td>\n",
       "      <td>1402.0</td>\n",
       "      <td>88.0</td>\n",
       "      <td>9.0</td>\n",
       "      <td>939.0</td>\n",
       "      <td>131.0</td>\n",
       "      <td>1140.0</td>\n",
       "      <td>114.0</td>\n",
       "      <td>1555.0</td>\n",
       "      <td>1074.0</td>\n",
       "      <td>11.9</td>\n",
       "      <td>54.0</td>\n",
       "      <td>0.7502</td>\n",
       "      <td>NaN</td>\n",
       "      <td>NaN</td>\n",
       "    </tr>\n",
       "    <tr>\n",
       "      <th>3</th>\n",
       "      <td>10/03/2004</td>\n",
       "      <td>21.00.00</td>\n",
       "      <td>2.2</td>\n",
       "      <td>1376.0</td>\n",
       "      <td>80.0</td>\n",
       "      <td>9.2</td>\n",
       "      <td>948.0</td>\n",
       "      <td>172.0</td>\n",
       "      <td>1092.0</td>\n",
       "      <td>122.0</td>\n",
       "      <td>1584.0</td>\n",
       "      <td>1203.0</td>\n",
       "      <td>11.0</td>\n",
       "      <td>60.0</td>\n",
       "      <td>0.7867</td>\n",
       "      <td>NaN</td>\n",
       "      <td>NaN</td>\n",
       "    </tr>\n",
       "    <tr>\n",
       "      <th>4</th>\n",
       "      <td>10/03/2004</td>\n",
       "      <td>22.00.00</td>\n",
       "      <td>1.6</td>\n",
       "      <td>1272.0</td>\n",
       "      <td>51.0</td>\n",
       "      <td>6.5</td>\n",
       "      <td>836.0</td>\n",
       "      <td>131.0</td>\n",
       "      <td>1205.0</td>\n",
       "      <td>116.0</td>\n",
       "      <td>1490.0</td>\n",
       "      <td>1110.0</td>\n",
       "      <td>11.2</td>\n",
       "      <td>59.6</td>\n",
       "      <td>0.7888</td>\n",
       "      <td>NaN</td>\n",
       "      <td>NaN</td>\n",
       "    </tr>\n",
       "  </tbody>\n",
       "</table>\n",
       "</div>"
      ],
      "text/plain": [
       "         Date      Time CO(GT)  PT08.S1(CO)  NMHC(GT) C6H6(GT)  PT08.S2(NMHC)  \\\n",
       "0  10/03/2004  18.00.00    2.6       1360.0     150.0     11.9         1046.0   \n",
       "1  10/03/2004  19.00.00      2       1292.0     112.0      9.4          955.0   \n",
       "2  10/03/2004  20.00.00    2.2       1402.0      88.0      9.0          939.0   \n",
       "3  10/03/2004  21.00.00    2.2       1376.0      80.0      9.2          948.0   \n",
       "4  10/03/2004  22.00.00    1.6       1272.0      51.0      6.5          836.0   \n",
       "\n",
       "   NOx(GT)  PT08.S3(NOx)  NO2(GT)  PT08.S4(NO2)  PT08.S5(O3)     T    RH  \\\n",
       "0    166.0        1056.0    113.0        1692.0       1268.0  13.6  48.9   \n",
       "1    103.0        1174.0     92.0        1559.0        972.0  13.3  47.7   \n",
       "2    131.0        1140.0    114.0        1555.0       1074.0  11.9  54.0   \n",
       "3    172.0        1092.0    122.0        1584.0       1203.0  11.0  60.0   \n",
       "4    131.0        1205.0    116.0        1490.0       1110.0  11.2  59.6   \n",
       "\n",
       "       AH  Unnamed: 15  Unnamed: 16  \n",
       "0  0.7578          NaN          NaN  \n",
       "1  0.7255          NaN          NaN  \n",
       "2  0.7502          NaN          NaN  \n",
       "3  0.7867          NaN          NaN  \n",
       "4  0.7888          NaN          NaN  "
      ]
     },
     "execution_count": 178,
     "metadata": {},
     "output_type": "execute_result"
    }
   ],
   "source": [
    "df.head()"
   ]
  },
  {
   "cell_type": "code",
   "execution_count": 179,
   "metadata": {},
   "outputs": [],
   "source": [
    "df.drop(labels = ['Unnamed: 15','Unnamed: 16'],axis=1,inplace=True)"
   ]
  },
  {
   "cell_type": "code",
   "execution_count": 180,
   "metadata": {},
   "outputs": [
    {
     "data": {
      "text/html": [
       "<div>\n",
       "<style scoped>\n",
       "    .dataframe tbody tr th:only-of-type {\n",
       "        vertical-align: middle;\n",
       "    }\n",
       "\n",
       "    .dataframe tbody tr th {\n",
       "        vertical-align: top;\n",
       "    }\n",
       "\n",
       "    .dataframe thead th {\n",
       "        text-align: right;\n",
       "    }\n",
       "</style>\n",
       "<table border=\"1\" class=\"dataframe\">\n",
       "  <thead>\n",
       "    <tr style=\"text-align: right;\">\n",
       "      <th></th>\n",
       "      <th>Date</th>\n",
       "      <th>Time</th>\n",
       "      <th>CO(GT)</th>\n",
       "      <th>PT08.S1(CO)</th>\n",
       "      <th>NMHC(GT)</th>\n",
       "      <th>C6H6(GT)</th>\n",
       "      <th>PT08.S2(NMHC)</th>\n",
       "      <th>NOx(GT)</th>\n",
       "      <th>PT08.S3(NOx)</th>\n",
       "      <th>NO2(GT)</th>\n",
       "      <th>PT08.S4(NO2)</th>\n",
       "      <th>PT08.S5(O3)</th>\n",
       "      <th>T</th>\n",
       "      <th>RH</th>\n",
       "      <th>AH</th>\n",
       "    </tr>\n",
       "  </thead>\n",
       "  <tbody>\n",
       "    <tr>\n",
       "      <th>0</th>\n",
       "      <td>10/03/2004</td>\n",
       "      <td>18.00.00</td>\n",
       "      <td>2.6</td>\n",
       "      <td>1360.0</td>\n",
       "      <td>150.0</td>\n",
       "      <td>11.9</td>\n",
       "      <td>1046.0</td>\n",
       "      <td>166.0</td>\n",
       "      <td>1056.0</td>\n",
       "      <td>113.0</td>\n",
       "      <td>1692.0</td>\n",
       "      <td>1268.0</td>\n",
       "      <td>13.6</td>\n",
       "      <td>48.9</td>\n",
       "      <td>0.7578</td>\n",
       "    </tr>\n",
       "    <tr>\n",
       "      <th>1</th>\n",
       "      <td>10/03/2004</td>\n",
       "      <td>19.00.00</td>\n",
       "      <td>2</td>\n",
       "      <td>1292.0</td>\n",
       "      <td>112.0</td>\n",
       "      <td>9.4</td>\n",
       "      <td>955.0</td>\n",
       "      <td>103.0</td>\n",
       "      <td>1174.0</td>\n",
       "      <td>92.0</td>\n",
       "      <td>1559.0</td>\n",
       "      <td>972.0</td>\n",
       "      <td>13.3</td>\n",
       "      <td>47.7</td>\n",
       "      <td>0.7255</td>\n",
       "    </tr>\n",
       "    <tr>\n",
       "      <th>2</th>\n",
       "      <td>10/03/2004</td>\n",
       "      <td>20.00.00</td>\n",
       "      <td>2.2</td>\n",
       "      <td>1402.0</td>\n",
       "      <td>88.0</td>\n",
       "      <td>9.0</td>\n",
       "      <td>939.0</td>\n",
       "      <td>131.0</td>\n",
       "      <td>1140.0</td>\n",
       "      <td>114.0</td>\n",
       "      <td>1555.0</td>\n",
       "      <td>1074.0</td>\n",
       "      <td>11.9</td>\n",
       "      <td>54.0</td>\n",
       "      <td>0.7502</td>\n",
       "    </tr>\n",
       "    <tr>\n",
       "      <th>3</th>\n",
       "      <td>10/03/2004</td>\n",
       "      <td>21.00.00</td>\n",
       "      <td>2.2</td>\n",
       "      <td>1376.0</td>\n",
       "      <td>80.0</td>\n",
       "      <td>9.2</td>\n",
       "      <td>948.0</td>\n",
       "      <td>172.0</td>\n",
       "      <td>1092.0</td>\n",
       "      <td>122.0</td>\n",
       "      <td>1584.0</td>\n",
       "      <td>1203.0</td>\n",
       "      <td>11.0</td>\n",
       "      <td>60.0</td>\n",
       "      <td>0.7867</td>\n",
       "    </tr>\n",
       "    <tr>\n",
       "      <th>4</th>\n",
       "      <td>10/03/2004</td>\n",
       "      <td>22.00.00</td>\n",
       "      <td>1.6</td>\n",
       "      <td>1272.0</td>\n",
       "      <td>51.0</td>\n",
       "      <td>6.5</td>\n",
       "      <td>836.0</td>\n",
       "      <td>131.0</td>\n",
       "      <td>1205.0</td>\n",
       "      <td>116.0</td>\n",
       "      <td>1490.0</td>\n",
       "      <td>1110.0</td>\n",
       "      <td>11.2</td>\n",
       "      <td>59.6</td>\n",
       "      <td>0.7888</td>\n",
       "    </tr>\n",
       "  </tbody>\n",
       "</table>\n",
       "</div>"
      ],
      "text/plain": [
       "         Date      Time CO(GT)  PT08.S1(CO)  NMHC(GT) C6H6(GT)  PT08.S2(NMHC)  \\\n",
       "0  10/03/2004  18.00.00    2.6       1360.0     150.0     11.9         1046.0   \n",
       "1  10/03/2004  19.00.00      2       1292.0     112.0      9.4          955.0   \n",
       "2  10/03/2004  20.00.00    2.2       1402.0      88.0      9.0          939.0   \n",
       "3  10/03/2004  21.00.00    2.2       1376.0      80.0      9.2          948.0   \n",
       "4  10/03/2004  22.00.00    1.6       1272.0      51.0      6.5          836.0   \n",
       "\n",
       "   NOx(GT)  PT08.S3(NOx)  NO2(GT)  PT08.S4(NO2)  PT08.S5(O3)     T    RH  \\\n",
       "0    166.0        1056.0    113.0        1692.0       1268.0  13.6  48.9   \n",
       "1    103.0        1174.0     92.0        1559.0        972.0  13.3  47.7   \n",
       "2    131.0        1140.0    114.0        1555.0       1074.0  11.9  54.0   \n",
       "3    172.0        1092.0    122.0        1584.0       1203.0  11.0  60.0   \n",
       "4    131.0        1205.0    116.0        1490.0       1110.0  11.2  59.6   \n",
       "\n",
       "       AH  \n",
       "0  0.7578  \n",
       "1  0.7255  \n",
       "2  0.7502  \n",
       "3  0.7867  \n",
       "4  0.7888  "
      ]
     },
     "execution_count": 180,
     "metadata": {},
     "output_type": "execute_result"
    }
   ],
   "source": [
    "df.head()"
   ]
  },
  {
   "cell_type": "code",
   "execution_count": 181,
   "metadata": {},
   "outputs": [
    {
     "name": "stdout",
     "output_type": "stream",
     "text": [
      "<class 'pandas.core.frame.DataFrame'>\n",
      "RangeIndex: 9471 entries, 0 to 9470\n",
      "Data columns (total 15 columns):\n",
      " #   Column         Non-Null Count  Dtype  \n",
      "---  ------         --------------  -----  \n",
      " 0   Date           9357 non-null   object \n",
      " 1   Time           9357 non-null   object \n",
      " 2   CO(GT)         9357 non-null   object \n",
      " 3   PT08.S1(CO)    9357 non-null   float64\n",
      " 4   NMHC(GT)       9357 non-null   float64\n",
      " 5   C6H6(GT)       9357 non-null   object \n",
      " 6   PT08.S2(NMHC)  9357 non-null   float64\n",
      " 7   NOx(GT)        9357 non-null   float64\n",
      " 8   PT08.S3(NOx)   9357 non-null   float64\n",
      " 9   NO2(GT)        9357 non-null   float64\n",
      " 10  PT08.S4(NO2)   9357 non-null   float64\n",
      " 11  PT08.S5(O3)    9357 non-null   float64\n",
      " 12  T              9357 non-null   object \n",
      " 13  RH             9357 non-null   object \n",
      " 14  AH             9357 non-null   object \n",
      "dtypes: float64(8), object(7)\n",
      "memory usage: 1.1+ MB\n"
     ]
    }
   ],
   "source": [
    "df.info()"
   ]
  },
  {
   "cell_type": "code",
   "execution_count": 182,
   "metadata": {},
   "outputs": [],
   "source": [
    "df.dropna(axis = 0,inplace=True)"
   ]
  },
  {
   "cell_type": "code",
   "execution_count": 183,
   "metadata": {},
   "outputs": [
    {
     "data": {
      "text/plain": [
       "Date             0\n",
       "Time             0\n",
       "CO(GT)           0\n",
       "PT08.S1(CO)      0\n",
       "NMHC(GT)         0\n",
       "C6H6(GT)         0\n",
       "PT08.S2(NMHC)    0\n",
       "NOx(GT)          0\n",
       "PT08.S3(NOx)     0\n",
       "NO2(GT)          0\n",
       "PT08.S4(NO2)     0\n",
       "PT08.S5(O3)      0\n",
       "T                0\n",
       "RH               0\n",
       "AH               0\n",
       "dtype: int64"
      ]
     },
     "execution_count": 183,
     "metadata": {},
     "output_type": "execute_result"
    }
   ],
   "source": [
    "df.isnull().sum()"
   ]
  },
  {
   "cell_type": "code",
   "execution_count": 184,
   "metadata": {},
   "outputs": [],
   "source": [
    "df.reset_index(inplace=True)"
   ]
  },
  {
   "cell_type": "code",
   "execution_count": 185,
   "metadata": {},
   "outputs": [
    {
     "name": "stdout",
     "output_type": "stream",
     "text": [
      "<class 'pandas.core.frame.DataFrame'>\n",
      "RangeIndex: 9357 entries, 0 to 9356\n",
      "Data columns (total 16 columns):\n",
      " #   Column         Non-Null Count  Dtype  \n",
      "---  ------         --------------  -----  \n",
      " 0   index          9357 non-null   int64  \n",
      " 1   Date           9357 non-null   object \n",
      " 2   Time           9357 non-null   object \n",
      " 3   CO(GT)         9357 non-null   object \n",
      " 4   PT08.S1(CO)    9357 non-null   float64\n",
      " 5   NMHC(GT)       9357 non-null   float64\n",
      " 6   C6H6(GT)       9357 non-null   object \n",
      " 7   PT08.S2(NMHC)  9357 non-null   float64\n",
      " 8   NOx(GT)        9357 non-null   float64\n",
      " 9   PT08.S3(NOx)   9357 non-null   float64\n",
      " 10  NO2(GT)        9357 non-null   float64\n",
      " 11  PT08.S4(NO2)   9357 non-null   float64\n",
      " 12  PT08.S5(O3)    9357 non-null   float64\n",
      " 13  T              9357 non-null   object \n",
      " 14  RH             9357 non-null   object \n",
      " 15  AH             9357 non-null   object \n",
      "dtypes: float64(8), int64(1), object(7)\n",
      "memory usage: 1.1+ MB\n"
     ]
    }
   ],
   "source": [
    "df.info()"
   ]
  },
  {
   "cell_type": "code",
   "execution_count": 186,
   "metadata": {},
   "outputs": [],
   "source": [
    "df['CO(GT)'] = df['CO(GT)'].astype('float64')\n",
    "df['C6H6(GT)'] = df['C6H6(GT)'].astype('float64')\n",
    "df['T'] = df['T'].astype('float64')\n",
    "df['RH'] = df['RH'].astype('float64')\n",
    "df['AH'] = df['AH'].astype('float64')"
   ]
  },
  {
   "cell_type": "code",
   "execution_count": 187,
   "metadata": {},
   "outputs": [
    {
     "name": "stdout",
     "output_type": "stream",
     "text": [
      "<class 'pandas.core.frame.DataFrame'>\n",
      "RangeIndex: 9357 entries, 0 to 9356\n",
      "Data columns (total 16 columns):\n",
      " #   Column         Non-Null Count  Dtype  \n",
      "---  ------         --------------  -----  \n",
      " 0   index          9357 non-null   int64  \n",
      " 1   Date           9357 non-null   object \n",
      " 2   Time           9357 non-null   object \n",
      " 3   CO(GT)         9357 non-null   float64\n",
      " 4   PT08.S1(CO)    9357 non-null   float64\n",
      " 5   NMHC(GT)       9357 non-null   float64\n",
      " 6   C6H6(GT)       9357 non-null   float64\n",
      " 7   PT08.S2(NMHC)  9357 non-null   float64\n",
      " 8   NOx(GT)        9357 non-null   float64\n",
      " 9   PT08.S3(NOx)   9357 non-null   float64\n",
      " 10  NO2(GT)        9357 non-null   float64\n",
      " 11  PT08.S4(NO2)   9357 non-null   float64\n",
      " 12  PT08.S5(O3)    9357 non-null   float64\n",
      " 13  T              9357 non-null   float64\n",
      " 14  RH             9357 non-null   float64\n",
      " 15  AH             9357 non-null   float64\n",
      "dtypes: float64(13), int64(1), object(2)\n",
      "memory usage: 1.1+ MB\n"
     ]
    }
   ],
   "source": [
    "df.info()"
   ]
  },
  {
   "cell_type": "code",
   "execution_count": 188,
   "metadata": {},
   "outputs": [],
   "source": [
    "df.drop(labels = ['Date','Time','index'],axis=1,inplace=True)"
   ]
  },
  {
   "cell_type": "code",
   "execution_count": 189,
   "metadata": {},
   "outputs": [],
   "source": [
    "df_cleaned = df.copy(deep=True)"
   ]
  },
  {
   "cell_type": "code",
   "execution_count": 190,
   "metadata": {},
   "outputs": [
    {
     "data": {
      "text/plain": [
       "Index(['CO(GT)', 'PT08.S1(CO)', 'NMHC(GT)', 'C6H6(GT)', 'PT08.S2(NMHC)',\n",
       "       'NOx(GT)', 'PT08.S3(NOx)', 'NO2(GT)', 'PT08.S4(NO2)', 'PT08.S5(O3)',\n",
       "       'T', 'RH', 'AH'],\n",
       "      dtype='object')"
      ]
     },
     "execution_count": 190,
     "metadata": {},
     "output_type": "execute_result"
    }
   ],
   "source": [
    "df.columns"
   ]
  },
  {
   "cell_type": "code",
   "execution_count": 191,
   "metadata": {},
   "outputs": [],
   "source": [
    "df = df[df['AH'] > -0.25]"
   ]
  },
  {
   "cell_type": "code",
   "execution_count": 192,
   "metadata": {},
   "outputs": [],
   "source": [
    "X = df\n",
    "y = df['AH']"
   ]
  },
  {
   "cell_type": "code",
   "execution_count": 193,
   "metadata": {},
   "outputs": [],
   "source": [
    "X.drop(labels = ['AH'],axis = 1, inplace = True)"
   ]
  },
  {
   "cell_type": "code",
   "execution_count": 194,
   "metadata": {},
   "outputs": [
    {
     "data": {
      "text/html": [
       "<div>\n",
       "<style scoped>\n",
       "    .dataframe tbody tr th:only-of-type {\n",
       "        vertical-align: middle;\n",
       "    }\n",
       "\n",
       "    .dataframe tbody tr th {\n",
       "        vertical-align: top;\n",
       "    }\n",
       "\n",
       "    .dataframe thead th {\n",
       "        text-align: right;\n",
       "    }\n",
       "</style>\n",
       "<table border=\"1\" class=\"dataframe\">\n",
       "  <thead>\n",
       "    <tr style=\"text-align: right;\">\n",
       "      <th></th>\n",
       "      <th>CO(GT)</th>\n",
       "      <th>PT08.S1(CO)</th>\n",
       "      <th>NMHC(GT)</th>\n",
       "      <th>C6H6(GT)</th>\n",
       "      <th>PT08.S2(NMHC)</th>\n",
       "      <th>NOx(GT)</th>\n",
       "      <th>PT08.S3(NOx)</th>\n",
       "      <th>NO2(GT)</th>\n",
       "      <th>PT08.S4(NO2)</th>\n",
       "      <th>PT08.S5(O3)</th>\n",
       "      <th>T</th>\n",
       "      <th>RH</th>\n",
       "    </tr>\n",
       "  </thead>\n",
       "  <tbody>\n",
       "    <tr>\n",
       "      <th>0</th>\n",
       "      <td>2.6</td>\n",
       "      <td>1360.0</td>\n",
       "      <td>150.0</td>\n",
       "      <td>11.9</td>\n",
       "      <td>1046.0</td>\n",
       "      <td>166.0</td>\n",
       "      <td>1056.0</td>\n",
       "      <td>113.0</td>\n",
       "      <td>1692.0</td>\n",
       "      <td>1268.0</td>\n",
       "      <td>13.6</td>\n",
       "      <td>48.9</td>\n",
       "    </tr>\n",
       "    <tr>\n",
       "      <th>1</th>\n",
       "      <td>2.0</td>\n",
       "      <td>1292.0</td>\n",
       "      <td>112.0</td>\n",
       "      <td>9.4</td>\n",
       "      <td>955.0</td>\n",
       "      <td>103.0</td>\n",
       "      <td>1174.0</td>\n",
       "      <td>92.0</td>\n",
       "      <td>1559.0</td>\n",
       "      <td>972.0</td>\n",
       "      <td>13.3</td>\n",
       "      <td>47.7</td>\n",
       "    </tr>\n",
       "    <tr>\n",
       "      <th>2</th>\n",
       "      <td>2.2</td>\n",
       "      <td>1402.0</td>\n",
       "      <td>88.0</td>\n",
       "      <td>9.0</td>\n",
       "      <td>939.0</td>\n",
       "      <td>131.0</td>\n",
       "      <td>1140.0</td>\n",
       "      <td>114.0</td>\n",
       "      <td>1555.0</td>\n",
       "      <td>1074.0</td>\n",
       "      <td>11.9</td>\n",
       "      <td>54.0</td>\n",
       "    </tr>\n",
       "    <tr>\n",
       "      <th>3</th>\n",
       "      <td>2.2</td>\n",
       "      <td>1376.0</td>\n",
       "      <td>80.0</td>\n",
       "      <td>9.2</td>\n",
       "      <td>948.0</td>\n",
       "      <td>172.0</td>\n",
       "      <td>1092.0</td>\n",
       "      <td>122.0</td>\n",
       "      <td>1584.0</td>\n",
       "      <td>1203.0</td>\n",
       "      <td>11.0</td>\n",
       "      <td>60.0</td>\n",
       "    </tr>\n",
       "    <tr>\n",
       "      <th>4</th>\n",
       "      <td>1.6</td>\n",
       "      <td>1272.0</td>\n",
       "      <td>51.0</td>\n",
       "      <td>6.5</td>\n",
       "      <td>836.0</td>\n",
       "      <td>131.0</td>\n",
       "      <td>1205.0</td>\n",
       "      <td>116.0</td>\n",
       "      <td>1490.0</td>\n",
       "      <td>1110.0</td>\n",
       "      <td>11.2</td>\n",
       "      <td>59.6</td>\n",
       "    </tr>\n",
       "  </tbody>\n",
       "</table>\n",
       "</div>"
      ],
      "text/plain": [
       "   CO(GT)  PT08.S1(CO)  NMHC(GT)  C6H6(GT)  PT08.S2(NMHC)  NOx(GT)  \\\n",
       "0     2.6       1360.0     150.0      11.9         1046.0    166.0   \n",
       "1     2.0       1292.0     112.0       9.4          955.0    103.0   \n",
       "2     2.2       1402.0      88.0       9.0          939.0    131.0   \n",
       "3     2.2       1376.0      80.0       9.2          948.0    172.0   \n",
       "4     1.6       1272.0      51.0       6.5          836.0    131.0   \n",
       "\n",
       "   PT08.S3(NOx)  NO2(GT)  PT08.S4(NO2)  PT08.S5(O3)     T    RH  \n",
       "0        1056.0    113.0        1692.0       1268.0  13.6  48.9  \n",
       "1        1174.0     92.0        1559.0        972.0  13.3  47.7  \n",
       "2        1140.0    114.0        1555.0       1074.0  11.9  54.0  \n",
       "3        1092.0    122.0        1584.0       1203.0  11.0  60.0  \n",
       "4        1205.0    116.0        1490.0       1110.0  11.2  59.6  "
      ]
     },
     "execution_count": 194,
     "metadata": {},
     "output_type": "execute_result"
    }
   ],
   "source": [
    "X.head()"
   ]
  },
  {
   "cell_type": "code",
   "execution_count": 195,
   "metadata": {},
   "outputs": [
    {
     "data": {
      "text/html": [
       "<div>\n",
       "<style scoped>\n",
       "    .dataframe tbody tr th:only-of-type {\n",
       "        vertical-align: middle;\n",
       "    }\n",
       "\n",
       "    .dataframe tbody tr th {\n",
       "        vertical-align: top;\n",
       "    }\n",
       "\n",
       "    .dataframe thead th {\n",
       "        text-align: right;\n",
       "    }\n",
       "</style>\n",
       "<table border=\"1\" class=\"dataframe\">\n",
       "  <thead>\n",
       "    <tr style=\"text-align: right;\">\n",
       "      <th></th>\n",
       "      <th>CO(GT)</th>\n",
       "      <th>PT08.S1(CO)</th>\n",
       "      <th>NMHC(GT)</th>\n",
       "      <th>C6H6(GT)</th>\n",
       "      <th>PT08.S2(NMHC)</th>\n",
       "      <th>NOx(GT)</th>\n",
       "      <th>PT08.S3(NOx)</th>\n",
       "      <th>NO2(GT)</th>\n",
       "      <th>PT08.S4(NO2)</th>\n",
       "      <th>PT08.S5(O3)</th>\n",
       "      <th>T</th>\n",
       "      <th>RH</th>\n",
       "    </tr>\n",
       "  </thead>\n",
       "  <tbody>\n",
       "    <tr>\n",
       "      <th>CO(GT)</th>\n",
       "      <td>1.000000</td>\n",
       "      <td>0.117828</td>\n",
       "      <td>0.130118</td>\n",
       "      <td>0.068549</td>\n",
       "      <td>0.077325</td>\n",
       "      <td>0.532309</td>\n",
       "      <td>-0.081036</td>\n",
       "      <td>0.670099</td>\n",
       "      <td>-0.060633</td>\n",
       "      <td>0.122234</td>\n",
       "      <td>-0.130533</td>\n",
       "      <td>-0.020492</td>\n",
       "    </tr>\n",
       "    <tr>\n",
       "      <th>PT08.S1(CO)</th>\n",
       "      <td>0.117828</td>\n",
       "      <td>1.000000</td>\n",
       "      <td>0.250628</td>\n",
       "      <td>0.883795</td>\n",
       "      <td>0.892964</td>\n",
       "      <td>0.564630</td>\n",
       "      <td>-0.771938</td>\n",
       "      <td>0.313563</td>\n",
       "      <td>0.682881</td>\n",
       "      <td>0.899324</td>\n",
       "      <td>0.048627</td>\n",
       "      <td>0.114606</td>\n",
       "    </tr>\n",
       "    <tr>\n",
       "      <th>NMHC(GT)</th>\n",
       "      <td>0.130118</td>\n",
       "      <td>0.250628</td>\n",
       "      <td>1.000000</td>\n",
       "      <td>0.136698</td>\n",
       "      <td>0.134317</td>\n",
       "      <td>0.000738</td>\n",
       "      <td>0.052192</td>\n",
       "      <td>0.106870</td>\n",
       "      <td>0.213850</td>\n",
       "      <td>0.111533</td>\n",
       "      <td>-0.068140</td>\n",
       "      <td>-0.014311</td>\n",
       "    </tr>\n",
       "    <tr>\n",
       "      <th>C6H6(GT)</th>\n",
       "      <td>0.068549</td>\n",
       "      <td>0.883795</td>\n",
       "      <td>0.136698</td>\n",
       "      <td>1.000000</td>\n",
       "      <td>0.981950</td>\n",
       "      <td>0.538118</td>\n",
       "      <td>-0.735744</td>\n",
       "      <td>0.265851</td>\n",
       "      <td>0.765731</td>\n",
       "      <td>0.865689</td>\n",
       "      <td>0.198956</td>\n",
       "      <td>-0.061681</td>\n",
       "    </tr>\n",
       "    <tr>\n",
       "      <th>PT08.S2(NMHC)</th>\n",
       "      <td>0.077325</td>\n",
       "      <td>0.892964</td>\n",
       "      <td>0.134317</td>\n",
       "      <td>0.981950</td>\n",
       "      <td>1.000000</td>\n",
       "      <td>0.534201</td>\n",
       "      <td>-0.796703</td>\n",
       "      <td>0.285569</td>\n",
       "      <td>0.777254</td>\n",
       "      <td>0.880578</td>\n",
       "      <td>0.241373</td>\n",
       "      <td>-0.090380</td>\n",
       "    </tr>\n",
       "    <tr>\n",
       "      <th>NOx(GT)</th>\n",
       "      <td>0.532309</td>\n",
       "      <td>0.564630</td>\n",
       "      <td>0.000738</td>\n",
       "      <td>0.538118</td>\n",
       "      <td>0.534201</td>\n",
       "      <td>1.000000</td>\n",
       "      <td>-0.503144</td>\n",
       "      <td>0.821199</td>\n",
       "      <td>0.143447</td>\n",
       "      <td>0.622205</td>\n",
       "      <td>-0.242007</td>\n",
       "      <td>0.111562</td>\n",
       "    </tr>\n",
       "    <tr>\n",
       "      <th>PT08.S3(NOx)</th>\n",
       "      <td>-0.081036</td>\n",
       "      <td>-0.771938</td>\n",
       "      <td>0.052192</td>\n",
       "      <td>-0.735744</td>\n",
       "      <td>-0.796703</td>\n",
       "      <td>-0.503144</td>\n",
       "      <td>1.000000</td>\n",
       "      <td>-0.287317</td>\n",
       "      <td>-0.538468</td>\n",
       "      <td>-0.796569</td>\n",
       "      <td>-0.145112</td>\n",
       "      <td>-0.056740</td>\n",
       "    </tr>\n",
       "    <tr>\n",
       "      <th>NO2(GT)</th>\n",
       "      <td>0.670099</td>\n",
       "      <td>0.313563</td>\n",
       "      <td>0.106870</td>\n",
       "      <td>0.265851</td>\n",
       "      <td>0.285569</td>\n",
       "      <td>0.821199</td>\n",
       "      <td>-0.287317</td>\n",
       "      <td>1.000000</td>\n",
       "      <td>0.024735</td>\n",
       "      <td>0.338367</td>\n",
       "      <td>-0.139509</td>\n",
       "      <td>-0.082190</td>\n",
       "    </tr>\n",
       "    <tr>\n",
       "      <th>PT08.S4(NO2)</th>\n",
       "      <td>-0.060633</td>\n",
       "      <td>0.682881</td>\n",
       "      <td>0.213850</td>\n",
       "      <td>0.765731</td>\n",
       "      <td>0.777254</td>\n",
       "      <td>0.143447</td>\n",
       "      <td>-0.538468</td>\n",
       "      <td>0.024735</td>\n",
       "      <td>1.000000</td>\n",
       "      <td>0.591144</td>\n",
       "      <td>0.561270</td>\n",
       "      <td>-0.032188</td>\n",
       "    </tr>\n",
       "    <tr>\n",
       "      <th>PT08.S5(O3)</th>\n",
       "      <td>0.122234</td>\n",
       "      <td>0.899324</td>\n",
       "      <td>0.111533</td>\n",
       "      <td>0.865689</td>\n",
       "      <td>0.880578</td>\n",
       "      <td>0.622205</td>\n",
       "      <td>-0.796569</td>\n",
       "      <td>0.338367</td>\n",
       "      <td>0.591144</td>\n",
       "      <td>1.000000</td>\n",
       "      <td>-0.027172</td>\n",
       "      <td>0.124956</td>\n",
       "    </tr>\n",
       "    <tr>\n",
       "      <th>T</th>\n",
       "      <td>-0.130533</td>\n",
       "      <td>0.048627</td>\n",
       "      <td>-0.068140</td>\n",
       "      <td>0.198956</td>\n",
       "      <td>0.241373</td>\n",
       "      <td>-0.242007</td>\n",
       "      <td>-0.145112</td>\n",
       "      <td>-0.139509</td>\n",
       "      <td>0.561270</td>\n",
       "      <td>-0.027172</td>\n",
       "      <td>1.000000</td>\n",
       "      <td>-0.578621</td>\n",
       "    </tr>\n",
       "    <tr>\n",
       "      <th>RH</th>\n",
       "      <td>-0.020492</td>\n",
       "      <td>0.114606</td>\n",
       "      <td>-0.014311</td>\n",
       "      <td>-0.061681</td>\n",
       "      <td>-0.090380</td>\n",
       "      <td>0.111562</td>\n",
       "      <td>-0.056740</td>\n",
       "      <td>-0.082190</td>\n",
       "      <td>-0.032188</td>\n",
       "      <td>0.124956</td>\n",
       "      <td>-0.578621</td>\n",
       "      <td>1.000000</td>\n",
       "    </tr>\n",
       "  </tbody>\n",
       "</table>\n",
       "</div>"
      ],
      "text/plain": [
       "                 CO(GT)  PT08.S1(CO)  NMHC(GT)  C6H6(GT)  PT08.S2(NMHC)  \\\n",
       "CO(GT)         1.000000     0.117828  0.130118  0.068549       0.077325   \n",
       "PT08.S1(CO)    0.117828     1.000000  0.250628  0.883795       0.892964   \n",
       "NMHC(GT)       0.130118     0.250628  1.000000  0.136698       0.134317   \n",
       "C6H6(GT)       0.068549     0.883795  0.136698  1.000000       0.981950   \n",
       "PT08.S2(NMHC)  0.077325     0.892964  0.134317  0.981950       1.000000   \n",
       "NOx(GT)        0.532309     0.564630  0.000738  0.538118       0.534201   \n",
       "PT08.S3(NOx)  -0.081036    -0.771938  0.052192 -0.735744      -0.796703   \n",
       "NO2(GT)        0.670099     0.313563  0.106870  0.265851       0.285569   \n",
       "PT08.S4(NO2)  -0.060633     0.682881  0.213850  0.765731       0.777254   \n",
       "PT08.S5(O3)    0.122234     0.899324  0.111533  0.865689       0.880578   \n",
       "T             -0.130533     0.048627 -0.068140  0.198956       0.241373   \n",
       "RH            -0.020492     0.114606 -0.014311 -0.061681      -0.090380   \n",
       "\n",
       "                NOx(GT)  PT08.S3(NOx)   NO2(GT)  PT08.S4(NO2)  PT08.S5(O3)  \\\n",
       "CO(GT)         0.532309     -0.081036  0.670099     -0.060633     0.122234   \n",
       "PT08.S1(CO)    0.564630     -0.771938  0.313563      0.682881     0.899324   \n",
       "NMHC(GT)       0.000738      0.052192  0.106870      0.213850     0.111533   \n",
       "C6H6(GT)       0.538118     -0.735744  0.265851      0.765731     0.865689   \n",
       "PT08.S2(NMHC)  0.534201     -0.796703  0.285569      0.777254     0.880578   \n",
       "NOx(GT)        1.000000     -0.503144  0.821199      0.143447     0.622205   \n",
       "PT08.S3(NOx)  -0.503144      1.000000 -0.287317     -0.538468    -0.796569   \n",
       "NO2(GT)        0.821199     -0.287317  1.000000      0.024735     0.338367   \n",
       "PT08.S4(NO2)   0.143447     -0.538468  0.024735      1.000000     0.591144   \n",
       "PT08.S5(O3)    0.622205     -0.796569  0.338367      0.591144     1.000000   \n",
       "T             -0.242007     -0.145112 -0.139509      0.561270    -0.027172   \n",
       "RH             0.111562     -0.056740 -0.082190     -0.032188     0.124956   \n",
       "\n",
       "                      T        RH  \n",
       "CO(GT)        -0.130533 -0.020492  \n",
       "PT08.S1(CO)    0.048627  0.114606  \n",
       "NMHC(GT)      -0.068140 -0.014311  \n",
       "C6H6(GT)       0.198956 -0.061681  \n",
       "PT08.S2(NMHC)  0.241373 -0.090380  \n",
       "NOx(GT)       -0.242007  0.111562  \n",
       "PT08.S3(NOx)  -0.145112 -0.056740  \n",
       "NO2(GT)       -0.139509 -0.082190  \n",
       "PT08.S4(NO2)   0.561270 -0.032188  \n",
       "PT08.S5(O3)   -0.027172  0.124956  \n",
       "T              1.000000 -0.578621  \n",
       "RH            -0.578621  1.000000  "
      ]
     },
     "execution_count": 195,
     "metadata": {},
     "output_type": "execute_result"
    }
   ],
   "source": [
    "X.corr()"
   ]
  },
  {
   "cell_type": "code",
   "execution_count": 196,
   "metadata": {},
   "outputs": [],
   "source": [
    "X.drop(['PT08.S1(CO)','PT08.S2(NMHC)','T','PT08.S5(O3)','PT08.S5(O3)'],axis = 1, inplace=True)"
   ]
  },
  {
   "cell_type": "code",
   "execution_count": 197,
   "metadata": {},
   "outputs": [],
   "source": [
    "X.drop(['C6H6(GT)','RH'],axis=1,inplace=True)"
   ]
  },
  {
   "cell_type": "code",
   "execution_count": 198,
   "metadata": {},
   "outputs": [
    {
     "data": {
      "text/html": [
       "<div>\n",
       "<style scoped>\n",
       "    .dataframe tbody tr th:only-of-type {\n",
       "        vertical-align: middle;\n",
       "    }\n",
       "\n",
       "    .dataframe tbody tr th {\n",
       "        vertical-align: top;\n",
       "    }\n",
       "\n",
       "    .dataframe thead th {\n",
       "        text-align: right;\n",
       "    }\n",
       "</style>\n",
       "<table border=\"1\" class=\"dataframe\">\n",
       "  <thead>\n",
       "    <tr style=\"text-align: right;\">\n",
       "      <th></th>\n",
       "      <th>CO(GT)</th>\n",
       "      <th>NMHC(GT)</th>\n",
       "      <th>NOx(GT)</th>\n",
       "      <th>PT08.S3(NOx)</th>\n",
       "      <th>NO2(GT)</th>\n",
       "      <th>PT08.S4(NO2)</th>\n",
       "    </tr>\n",
       "  </thead>\n",
       "  <tbody>\n",
       "    <tr>\n",
       "      <th>0</th>\n",
       "      <td>2.6</td>\n",
       "      <td>150.0</td>\n",
       "      <td>166.0</td>\n",
       "      <td>1056.0</td>\n",
       "      <td>113.0</td>\n",
       "      <td>1692.0</td>\n",
       "    </tr>\n",
       "    <tr>\n",
       "      <th>1</th>\n",
       "      <td>2.0</td>\n",
       "      <td>112.0</td>\n",
       "      <td>103.0</td>\n",
       "      <td>1174.0</td>\n",
       "      <td>92.0</td>\n",
       "      <td>1559.0</td>\n",
       "    </tr>\n",
       "    <tr>\n",
       "      <th>2</th>\n",
       "      <td>2.2</td>\n",
       "      <td>88.0</td>\n",
       "      <td>131.0</td>\n",
       "      <td>1140.0</td>\n",
       "      <td>114.0</td>\n",
       "      <td>1555.0</td>\n",
       "    </tr>\n",
       "    <tr>\n",
       "      <th>3</th>\n",
       "      <td>2.2</td>\n",
       "      <td>80.0</td>\n",
       "      <td>172.0</td>\n",
       "      <td>1092.0</td>\n",
       "      <td>122.0</td>\n",
       "      <td>1584.0</td>\n",
       "    </tr>\n",
       "    <tr>\n",
       "      <th>4</th>\n",
       "      <td>1.6</td>\n",
       "      <td>51.0</td>\n",
       "      <td>131.0</td>\n",
       "      <td>1205.0</td>\n",
       "      <td>116.0</td>\n",
       "      <td>1490.0</td>\n",
       "    </tr>\n",
       "  </tbody>\n",
       "</table>\n",
       "</div>"
      ],
      "text/plain": [
       "   CO(GT)  NMHC(GT)  NOx(GT)  PT08.S3(NOx)  NO2(GT)  PT08.S4(NO2)\n",
       "0     2.6     150.0    166.0        1056.0    113.0        1692.0\n",
       "1     2.0     112.0    103.0        1174.0     92.0        1559.0\n",
       "2     2.2      88.0    131.0        1140.0    114.0        1555.0\n",
       "3     2.2      80.0    172.0        1092.0    122.0        1584.0\n",
       "4     1.6      51.0    131.0        1205.0    116.0        1490.0"
      ]
     },
     "execution_count": 198,
     "metadata": {},
     "output_type": "execute_result"
    }
   ],
   "source": [
    "X.head()"
   ]
  },
  {
   "cell_type": "markdown",
   "metadata": {},
   "source": [
    "## Model Training"
   ]
  },
  {
   "cell_type": "code",
   "execution_count": 199,
   "metadata": {},
   "outputs": [],
   "source": [
    "from sklearn.model_selection import train_test_split # type: ignore\n",
    "X_train,X_test,y_train,y_test = train_test_split(X,y,test_size=0.25)"
   ]
  },
  {
   "cell_type": "code",
   "execution_count": 200,
   "metadata": {},
   "outputs": [
    {
     "data": {
      "text/plain": [
       "(6743, 6)"
      ]
     },
     "execution_count": 200,
     "metadata": {},
     "output_type": "execute_result"
    }
   ],
   "source": [
    "X_train.shape"
   ]
  },
  {
   "cell_type": "code",
   "execution_count": 201,
   "metadata": {},
   "outputs": [
    {
     "data": {
      "text/plain": [
       "(6743,)"
      ]
     },
     "execution_count": 201,
     "metadata": {},
     "output_type": "execute_result"
    }
   ],
   "source": [
    "y_train.shape"
   ]
  },
  {
   "cell_type": "code",
   "execution_count": 202,
   "metadata": {},
   "outputs": [],
   "source": [
    "from sklearn.preprocessing import StandardScaler\n",
    "scaler = StandardScaler()\n",
    "X_train_scaled = scaler.fit_transform(X_train)\n",
    "X_test_scaled = scaler.transform(X_test)"
   ]
  },
  {
   "cell_type": "code",
   "execution_count": 203,
   "metadata": {},
   "outputs": [
    {
     "data": {
      "text/plain": [
       "<Axes: >"
      ]
     },
     "execution_count": 203,
     "metadata": {},
     "output_type": "execute_result"
    },
    {
     "data": {
      "image/png": "[encoded data removed]",
      "text/plain": [
       "<Figure size 640x480 with 1 Axes>"
      ]
     },
     "metadata": {},
     "output_type": "display_data"
    }
   ],
   "source": [
    "sns.boxplot(data = X_train_scaled)\n"
   ]
  },
  {
   "cell_type": "code",
   "execution_count": 204,
   "metadata": {},
   "outputs": [],
   "source": [
    "from sklearn.linear_model import LinearRegression\n",
    "reg_model = LinearRegression()\n",
    "reg_model.fit(X_train_scaled,y_train)\n",
    "y_pred_reg = reg_model.predict(X_test_scaled)"
   ]
  },
  {
   "cell_type": "code",
   "execution_count": 205,
   "metadata": {},
   "outputs": [
    {
     "name": "stdout",
     "output_type": "stream",
     "text": [
      "Mean absolute error of Linear regression model is:  0.20701925605716862\n",
      "R2 score  of Linear regression model is:  0.5551983648929917\n"
     ]
    }
   ],
   "source": [
    "from sklearn.metrics import mean_absolute_error, r2_score\n",
    "mae = mean_absolute_error(y_test,y_pred_reg)\n",
    "score = r2_score(y_test,y_pred_reg)\n",
    "print(\"Mean absolute error of Linear regression model is: \", mae)\n",
    "print(\"R2 score  of Linear regression model is: \", score)"
   ]
  },
  {
   "cell_type": "code",
   "execution_count": 206,
   "metadata": {},
   "outputs": [
    {
     "data": {
      "text/plain": [
       "<matplotlib.collections.PathCollection at 0x299b7f66090>"
      ]
     },
     "execution_count": 206,
     "metadata": {},
     "output_type": "execute_result"
    },
    {
     "data": {
      "image/png": "[encoded data removed]",
      "text/plain": [
       "<Figure size 640x480 with 1 Axes>"
      ]
     },
     "metadata": {},
     "output_type": "display_data"
    }
   ],
   "source": [
    "plt.scatter(y_test,y_pred_reg)"
   ]
  },
  {
   "cell_type": "code",
   "execution_count": 207,
   "metadata": {},
   "outputs": [],
   "source": [
    "from sklearn.linear_model import LassoCV\n",
    "lasso_model = LassoCV()\n",
    "lasso_model.fit(X_train_scaled,y_train)\n",
    "y_pred_lasso = lasso_model.predict(X_test_scaled)"
   ]
  },
  {
   "cell_type": "code",
   "execution_count": 208,
   "metadata": {},
   "outputs": [
    {
     "name": "stdout",
     "output_type": "stream",
     "text": [
      "Mean absolute error of Lasso regression model is:  0.20709196987327916\n",
      "R2 score  of Lasso regression model is:  0.5552760613388821\n"
     ]
    }
   ],
   "source": [
    "from sklearn.metrics import mean_absolute_error, r2_score\n",
    "mae = mean_absolute_error(y_test,y_pred_lasso)\n",
    "score = r2_score(y_test,y_pred_lasso)\n",
    "print(\"Mean absolute error of Lasso regression model is: \", mae)\n",
    "print(\"R2 score  of Lasso regression model is: \", score)"
   ]
  },
  {
   "cell_type": "code",
   "execution_count": 209,
   "metadata": {},
   "outputs": [
    {
     "data": {
      "text/plain": [
       "<matplotlib.collections.PathCollection at 0x299b77ae1b0>"
      ]
     },
     "execution_count": 209,
     "metadata": {},
     "output_type": "execute_result"
    },
    {
     "data": {
      "image/png": "[encoded data removed]",
      "text/plain": [
       "<Figure size 640x480 with 1 Axes>"
      ]
     },
     "metadata": {},
     "output_type": "display_data"
    }
   ],
   "source": [
    "plt.scatter(y_test,y_pred_lasso)"
   ]
  },
  {
   "cell_type": "markdown",
   "metadata": {},
   "source": [
    "## Best Model"
   ]
  },
  {
   "cell_type": "code",
   "execution_count": 220,
   "metadata": {},
   "outputs": [],
   "source": [
    "from sklearn.preprocessing import PolynomialFeatures\n",
    "poly = PolynomialFeatures(degree=3)\n",
    "X_train_poly = poly.fit_transform(X_train_scaled)\n",
    "X_test_poly = poly.transform(X_test_scaled)"
   ]
  },
  {
   "cell_type": "code",
   "execution_count": 221,
   "metadata": {},
   "outputs": [],
   "source": [
    "poly_model = LinearRegression()\n",
    "poly_model.fit(X_train_poly,y_train)\n",
    "y_pred_poly = poly_model.predict(X_test_poly)"
   ]
  },
  {
   "cell_type": "code",
   "execution_count": 222,
   "metadata": {},
   "outputs": [
    {
     "name": "stdout",
     "output_type": "stream",
     "text": [
      "Mean absolute error of Polynomial regression model is:  0.1356050553640725\n",
      "R2 score  of Polynomial regression model is:  0.7883726660211013\n"
     ]
    }
   ],
   "source": [
    "from sklearn.metrics import mean_absolute_error, r2_score # type: ignore\n",
    "mae = mean_absolute_error(y_test,y_pred_poly)\n",
    "score = r2_score(y_test,y_pred_poly)\n",
    "print(\"Mean absolute error of Polynomial regression model is: \", mae)\n",
    "print(\"R2 score  of Polynomial regression model is: \", score)"
   ]
  },
  {
   "cell_type": "code",
   "execution_count": 223,
   "metadata": {},
   "outputs": [
    {
     "data": {
      "text/plain": [
       "<matplotlib.collections.PathCollection at 0x299b78512b0>"
      ]
     },
     "execution_count": 223,
     "metadata": {},
     "output_type": "execute_result"
    },
    {
     "data": {
      "image/png": "[encoded data removed]",
      "text/plain": [
       "<Figure size 640x480 with 1 Axes>"
      ]
     },
     "metadata": {},
     "output_type": "display_data"
    }
   ],
   "source": [
    "plt.scatter(y_test,y_pred_poly)"
   ]
  },
  {
   "cell_type": "markdown",
   "metadata": {},
   "source": [
    "## lassoCV and ridgeCV on poly"
   ]
  },
  {
   "cell_type": "code",
   "execution_count": 214,
   "metadata": {},
   "outputs": [],
   "source": [
    "from sklearn.preprocessing import PolynomialFeatures\n",
    "poly = PolynomialFeatures(degree=4)\n",
    "X_train_poly = poly.fit_transform(X_train_scaled)\n",
    "X_test_poly = poly.transform(X_test_scaled)"
   ]
  },
  {
   "cell_type": "code",
   "execution_count": 215,
   "metadata": {},
   "outputs": [
    {
     "name": "stderr",
     "output_type": "stream",
     "text": [
      "c:\\Users\\PROFRESSOR\\AppData\\Local\\Programs\\Python\\Python312\\Lib\\site-packages\\sklearn\\linear_model\\_coordinate_descent.py:683: ConvergenceWarning: Objective did not converge. You might want to increase the number of iterations. Duality gap: 0.21001215759963543, tolerance: 0.0882525925568263\n",
      "  model = cd_fast.enet_coordinate_descent_gram(\n",
      "c:\\Users\\PROFRESSOR\\AppData\\Local\\Programs\\Python\\Python312\\Lib\\site-packages\\sklearn\\linear_model\\_coordinate_descent.py:683: ConvergenceWarning: Objective did not converge. You might want to increase the number of iterations. Duality gap: 0.3279882088420436, tolerance: 0.0882525925568263\n",
      "  model = cd_fast.enet_coordinate_descent_gram(\n",
      "c:\\Users\\PROFRESSOR\\AppData\\Local\\Programs\\Python\\Python312\\Lib\\site-packages\\sklearn\\linear_model\\_coordinate_descent.py:683: ConvergenceWarning: Objective did not converge. You might want to increase the number of iterations. Duality gap: 0.29334529535469756, tolerance: 0.0882525925568263\n",
      "  model = cd_fast.enet_coordinate_descent_gram(\n",
      "c:\\Users\\PROFRESSOR\\AppData\\Local\\Programs\\Python\\Python312\\Lib\\site-packages\\sklearn\\linear_model\\_coordinate_descent.py:683: ConvergenceWarning: Objective did not converge. You might want to increase the number of iterations. Duality gap: 0.5141495945645715, tolerance: 0.0882525925568263\n",
      "  model = cd_fast.enet_coordinate_descent_gram(\n",
      "c:\\Users\\PROFRESSOR\\AppData\\Local\\Programs\\Python\\Python312\\Lib\\site-packages\\sklearn\\linear_model\\_coordinate_descent.py:683: ConvergenceWarning: Objective did not converge. You might want to increase the number of iterations. Duality gap: 0.518448173323975, tolerance: 0.0882525925568263\n",
      "  model = cd_fast.enet_coordinate_descent_gram(\n",
      "c:\\Users\\PROFRESSOR\\AppData\\Local\\Programs\\Python\\Python312\\Lib\\site-packages\\sklearn\\linear_model\\_coordinate_descent.py:683: ConvergenceWarning: Objective did not converge. You might want to increase the number of iterations. Duality gap: 7.308048195980405, tolerance: 0.0882525925568263\n",
      "  model = cd_fast.enet_coordinate_descent_gram(\n",
      "c:\\Users\\PROFRESSOR\\AppData\\Local\\Programs\\Python\\Python312\\Lib\\site-packages\\sklearn\\linear_model\\_coordinate_descent.py:683: ConvergenceWarning: Objective did not converge. You might want to increase the number of iterations. Duality gap: 7.04304901338935, tolerance: 0.0882525925568263\n",
      "  model = cd_fast.enet_coordinate_descent_gram(\n",
      "c:\\Users\\PROFRESSOR\\AppData\\Local\\Programs\\Python\\Python312\\Lib\\site-packages\\sklearn\\linear_model\\_coordinate_descent.py:683: ConvergenceWarning: Objective did not converge. You might want to increase the number of iterations. Duality gap: 0.17339477783554003, tolerance: 0.0882525925568263\n",
      "  model = cd_fast.enet_coordinate_descent_gram(\n",
      "c:\\Users\\PROFRESSOR\\AppData\\Local\\Programs\\Python\\Python312\\Lib\\site-packages\\sklearn\\linear_model\\_coordinate_descent.py:683: ConvergenceWarning: Objective did not converge. You might want to increase the number of iterations. Duality gap: 0.38764542311690775, tolerance: 0.0882525925568263\n",
      "  model = cd_fast.enet_coordinate_descent_gram(\n",
      "c:\\Users\\PROFRESSOR\\AppData\\Local\\Programs\\Python\\Python312\\Lib\\site-packages\\sklearn\\linear_model\\_coordinate_descent.py:683: ConvergenceWarning: Objective did not converge. You might want to increase the number of iterations. Duality gap: 0.2611767529647011, tolerance: 0.0882525925568263\n",
      "  model = cd_fast.enet_coordinate_descent_gram(\n",
      "c:\\Users\\PROFRESSOR\\AppData\\Local\\Programs\\Python\\Python312\\Lib\\site-packages\\sklearn\\linear_model\\_coordinate_descent.py:683: ConvergenceWarning: Objective did not converge. You might want to increase the number of iterations. Duality gap: 0.1174852058698832, tolerance: 0.0882525925568263\n",
      "  model = cd_fast.enet_coordinate_descent_gram(\n",
      "c:\\Users\\PROFRESSOR\\AppData\\Local\\Programs\\Python\\Python312\\Lib\\site-packages\\sklearn\\linear_model\\_coordinate_descent.py:683: ConvergenceWarning: Objective did not converge. You might want to increase the number of iterations. Duality gap: 0.24357526332153157, tolerance: 0.0882525925568263\n",
      "  model = cd_fast.enet_coordinate_descent_gram(\n",
      "c:\\Users\\PROFRESSOR\\AppData\\Local\\Programs\\Python\\Python312\\Lib\\site-packages\\sklearn\\linear_model\\_coordinate_descent.py:683: ConvergenceWarning: Objective did not converge. You might want to increase the number of iterations. Duality gap: 0.3892804435784569, tolerance: 0.08915287221511997\n",
      "  model = cd_fast.enet_coordinate_descent_gram(\n",
      "c:\\Users\\PROFRESSOR\\AppData\\Local\\Programs\\Python\\Python312\\Lib\\site-packages\\sklearn\\linear_model\\_coordinate_descent.py:683: ConvergenceWarning: Objective did not converge. You might want to increase the number of iterations. Duality gap: 0.43521921096424876, tolerance: 0.08915287221511997\n",
      "  model = cd_fast.enet_coordinate_descent_gram(\n",
      "c:\\Users\\PROFRESSOR\\AppData\\Local\\Programs\\Python\\Python312\\Lib\\site-packages\\sklearn\\linear_model\\_coordinate_descent.py:683: ConvergenceWarning: Objective did not converge. You might want to increase the number of iterations. Duality gap: 0.3466826015002198, tolerance: 0.08915287221511997\n",
      "  model = cd_fast.enet_coordinate_descent_gram(\n",
      "c:\\Users\\PROFRESSOR\\AppData\\Local\\Programs\\Python\\Python312\\Lib\\site-packages\\sklearn\\linear_model\\_coordinate_descent.py:683: ConvergenceWarning: Objective did not converge. You might want to increase the number of iterations. Duality gap: 0.7603498490402103, tolerance: 0.08915287221511997\n",
      "  model = cd_fast.enet_coordinate_descent_gram(\n",
      "c:\\Users\\PROFRESSOR\\AppData\\Local\\Programs\\Python\\Python312\\Lib\\site-packages\\sklearn\\linear_model\\_coordinate_descent.py:683: ConvergenceWarning: Objective did not converge. You might want to increase the number of iterations. Duality gap: 0.10936820761298804, tolerance: 0.08915287221511997\n",
      "  model = cd_fast.enet_coordinate_descent_gram(\n",
      "c:\\Users\\PROFRESSOR\\AppData\\Local\\Programs\\Python\\Python312\\Lib\\site-packages\\sklearn\\linear_model\\_coordinate_descent.py:683: ConvergenceWarning: Objective did not converge. You might want to increase the number of iterations. Duality gap: 0.17025406573338842, tolerance: 0.08915287221511997\n",
      "  model = cd_fast.enet_coordinate_descent_gram(\n",
      "c:\\Users\\PROFRESSOR\\AppData\\Local\\Programs\\Python\\Python312\\Lib\\site-packages\\sklearn\\linear_model\\_coordinate_descent.py:683: ConvergenceWarning: Objective did not converge. You might want to increase the number of iterations. Duality gap: 0.25312666440049725, tolerance: 0.08915287221511997\n",
      "  model = cd_fast.enet_coordinate_descent_gram(\n",
      "c:\\Users\\PROFRESSOR\\AppData\\Local\\Programs\\Python\\Python312\\Lib\\site-packages\\sklearn\\linear_model\\_coordinate_descent.py:683: ConvergenceWarning: Objective did not converge. You might want to increase the number of iterations. Duality gap: 0.2532042732409536, tolerance: 0.08915287221511997\n",
      "  model = cd_fast.enet_coordinate_descent_gram(\n",
      "c:\\Users\\PROFRESSOR\\AppData\\Local\\Programs\\Python\\Python312\\Lib\\site-packages\\sklearn\\linear_model\\_coordinate_descent.py:683: ConvergenceWarning: Objective did not converge. You might want to increase the number of iterations. Duality gap: 6.571164413400538, tolerance: 0.08915287221511997\n",
      "  model = cd_fast.enet_coordinate_descent_gram(\n",
      "c:\\Users\\PROFRESSOR\\AppData\\Local\\Programs\\Python\\Python312\\Lib\\site-packages\\sklearn\\linear_model\\_coordinate_descent.py:683: ConvergenceWarning: Objective did not converge. You might want to increase the number of iterations. Duality gap: 11.160525834335147, tolerance: 0.08915287221511997\n",
      "  model = cd_fast.enet_coordinate_descent_gram(\n",
      "c:\\Users\\PROFRESSOR\\AppData\\Local\\Programs\\Python\\Python312\\Lib\\site-packages\\sklearn\\linear_model\\_coordinate_descent.py:683: ConvergenceWarning: Objective did not converge. You might want to increase the number of iterations. Duality gap: 4.749542541038522, tolerance: 0.08915287221511997\n",
      "  model = cd_fast.enet_coordinate_descent_gram(\n",
      "c:\\Users\\PROFRESSOR\\AppData\\Local\\Programs\\Python\\Python312\\Lib\\site-packages\\sklearn\\linear_model\\_coordinate_descent.py:683: ConvergenceWarning: Objective did not converge. You might want to increase the number of iterations. Duality gap: 0.09002104826925006, tolerance: 0.08915287221511997\n",
      "  model = cd_fast.enet_coordinate_descent_gram(\n",
      "c:\\Users\\PROFRESSOR\\AppData\\Local\\Programs\\Python\\Python312\\Lib\\site-packages\\sklearn\\linear_model\\_coordinate_descent.py:683: ConvergenceWarning: Objective did not converge. You might want to increase the number of iterations. Duality gap: 0.6428845905509206, tolerance: 0.08915287221511997\n",
      "  model = cd_fast.enet_coordinate_descent_gram(\n",
      "c:\\Users\\PROFRESSOR\\AppData\\Local\\Programs\\Python\\Python312\\Lib\\site-packages\\sklearn\\linear_model\\_coordinate_descent.py:683: ConvergenceWarning: Objective did not converge. You might want to increase the number of iterations. Duality gap: 1.4318894511065992, tolerance: 0.08915287221511997\n",
      "  model = cd_fast.enet_coordinate_descent_gram(\n",
      "c:\\Users\\PROFRESSOR\\AppData\\Local\\Programs\\Python\\Python312\\Lib\\site-packages\\sklearn\\linear_model\\_coordinate_descent.py:683: ConvergenceWarning: Objective did not converge. You might want to increase the number of iterations. Duality gap: 0.23059178234782962, tolerance: 0.08915287221511997\n",
      "  model = cd_fast.enet_coordinate_descent_gram(\n",
      "c:\\Users\\PROFRESSOR\\AppData\\Local\\Programs\\Python\\Python312\\Lib\\site-packages\\sklearn\\linear_model\\_coordinate_descent.py:683: ConvergenceWarning: Objective did not converge. You might want to increase the number of iterations. Duality gap: 0.24890061550973996, tolerance: 0.08806493690468893\n",
      "  model = cd_fast.enet_coordinate_descent_gram(\n",
      "c:\\Users\\PROFRESSOR\\AppData\\Local\\Programs\\Python\\Python312\\Lib\\site-packages\\sklearn\\linear_model\\_coordinate_descent.py:683: ConvergenceWarning: Objective did not converge. You might want to increase the number of iterations. Duality gap: 0.7482106486480689, tolerance: 0.08806493690468893\n",
      "  model = cd_fast.enet_coordinate_descent_gram(\n",
      "c:\\Users\\PROFRESSOR\\AppData\\Local\\Programs\\Python\\Python312\\Lib\\site-packages\\sklearn\\linear_model\\_coordinate_descent.py:683: ConvergenceWarning: Objective did not converge. You might want to increase the number of iterations. Duality gap: 0.11778222719317455, tolerance: 0.08806493690468893\n",
      "  model = cd_fast.enet_coordinate_descent_gram(\n",
      "c:\\Users\\PROFRESSOR\\AppData\\Local\\Programs\\Python\\Python312\\Lib\\site-packages\\sklearn\\linear_model\\_coordinate_descent.py:683: ConvergenceWarning: Objective did not converge. You might want to increase the number of iterations. Duality gap: 1.2834420315018633, tolerance: 0.08806493690468893\n",
      "  model = cd_fast.enet_coordinate_descent_gram(\n",
      "c:\\Users\\PROFRESSOR\\AppData\\Local\\Programs\\Python\\Python312\\Lib\\site-packages\\sklearn\\linear_model\\_coordinate_descent.py:683: ConvergenceWarning: Objective did not converge. You might want to increase the number of iterations. Duality gap: 0.8615348526957405, tolerance: 0.08806493690468893\n",
      "  model = cd_fast.enet_coordinate_descent_gram(\n",
      "c:\\Users\\PROFRESSOR\\AppData\\Local\\Programs\\Python\\Python312\\Lib\\site-packages\\sklearn\\linear_model\\_coordinate_descent.py:683: ConvergenceWarning: Objective did not converge. You might want to increase the number of iterations. Duality gap: 1.2218531803272867, tolerance: 0.08806493690468893\n",
      "  model = cd_fast.enet_coordinate_descent_gram(\n",
      "c:\\Users\\PROFRESSOR\\AppData\\Local\\Programs\\Python\\Python312\\Lib\\site-packages\\sklearn\\linear_model\\_coordinate_descent.py:683: ConvergenceWarning: Objective did not converge. You might want to increase the number of iterations. Duality gap: 3.3537384742494396, tolerance: 0.08806493690468893\n",
      "  model = cd_fast.enet_coordinate_descent_gram(\n",
      "c:\\Users\\PROFRESSOR\\AppData\\Local\\Programs\\Python\\Python312\\Lib\\site-packages\\sklearn\\linear_model\\_coordinate_descent.py:683: ConvergenceWarning: Objective did not converge. You might want to increase the number of iterations. Duality gap: 4.729621146867714, tolerance: 0.08806493690468893\n",
      "  model = cd_fast.enet_coordinate_descent_gram(\n",
      "c:\\Users\\PROFRESSOR\\AppData\\Local\\Programs\\Python\\Python312\\Lib\\site-packages\\sklearn\\linear_model\\_coordinate_descent.py:683: ConvergenceWarning: Objective did not converge. You might want to increase the number of iterations. Duality gap: 4.843204003089909, tolerance: 0.08806493690468893\n",
      "  model = cd_fast.enet_coordinate_descent_gram(\n",
      "c:\\Users\\PROFRESSOR\\AppData\\Local\\Programs\\Python\\Python312\\Lib\\site-packages\\sklearn\\linear_model\\_coordinate_descent.py:683: ConvergenceWarning: Objective did not converge. You might want to increase the number of iterations. Duality gap: 0.19016585540225606, tolerance: 0.08806493690468893\n",
      "  model = cd_fast.enet_coordinate_descent_gram(\n",
      "c:\\Users\\PROFRESSOR\\AppData\\Local\\Programs\\Python\\Python312\\Lib\\site-packages\\sklearn\\linear_model\\_coordinate_descent.py:683: ConvergenceWarning: Objective did not converge. You might want to increase the number of iterations. Duality gap: 0.34204901739349225, tolerance: 0.08806493690468893\n",
      "  model = cd_fast.enet_coordinate_descent_gram(\n",
      "c:\\Users\\PROFRESSOR\\AppData\\Local\\Programs\\Python\\Python312\\Lib\\site-packages\\sklearn\\linear_model\\_coordinate_descent.py:683: ConvergenceWarning: Objective did not converge. You might want to increase the number of iterations. Duality gap: 0.12331696413548343, tolerance: 0.08806493690468893\n",
      "  model = cd_fast.enet_coordinate_descent_gram(\n",
      "c:\\Users\\PROFRESSOR\\AppData\\Local\\Programs\\Python\\Python312\\Lib\\site-packages\\sklearn\\linear_model\\_coordinate_descent.py:683: ConvergenceWarning: Objective did not converge. You might want to increase the number of iterations. Duality gap: 0.2147356465961252, tolerance: 0.08806493690468893\n",
      "  model = cd_fast.enet_coordinate_descent_gram(\n",
      "c:\\Users\\PROFRESSOR\\AppData\\Local\\Programs\\Python\\Python312\\Lib\\site-packages\\sklearn\\linear_model\\_coordinate_descent.py:683: ConvergenceWarning: Objective did not converge. You might want to increase the number of iterations. Duality gap: 0.2527139262225262, tolerance: 0.08806493690468893\n",
      "  model = cd_fast.enet_coordinate_descent_gram(\n",
      "c:\\Users\\PROFRESSOR\\AppData\\Local\\Programs\\Python\\Python312\\Lib\\site-packages\\sklearn\\linear_model\\_coordinate_descent.py:683: ConvergenceWarning: Objective did not converge. You might want to increase the number of iterations. Duality gap: 4.750827425944067, tolerance: 0.08806493690468893\n",
      "  model = cd_fast.enet_coordinate_descent_gram(\n",
      "c:\\Users\\PROFRESSOR\\AppData\\Local\\Programs\\Python\\Python312\\Lib\\site-packages\\sklearn\\linear_model\\_coordinate_descent.py:683: ConvergenceWarning: Objective did not converge. You might want to increase the number of iterations. Duality gap: 0.11462206154908472, tolerance: 0.08958778358616795\n",
      "  model = cd_fast.enet_coordinate_descent_gram(\n",
      "c:\\Users\\PROFRESSOR\\AppData\\Local\\Programs\\Python\\Python312\\Lib\\site-packages\\sklearn\\linear_model\\_coordinate_descent.py:683: ConvergenceWarning: Objective did not converge. You might want to increase the number of iterations. Duality gap: 0.09259667065629174, tolerance: 0.08958778358616795\n",
      "  model = cd_fast.enet_coordinate_descent_gram(\n",
      "c:\\Users\\PROFRESSOR\\AppData\\Local\\Programs\\Python\\Python312\\Lib\\site-packages\\sklearn\\linear_model\\_coordinate_descent.py:683: ConvergenceWarning: Objective did not converge. You might want to increase the number of iterations. Duality gap: 0.09314670862283947, tolerance: 0.08958778358616795\n",
      "  model = cd_fast.enet_coordinate_descent_gram(\n",
      "c:\\Users\\PROFRESSOR\\AppData\\Local\\Programs\\Python\\Python312\\Lib\\site-packages\\sklearn\\linear_model\\_coordinate_descent.py:683: ConvergenceWarning: Objective did not converge. You might want to increase the number of iterations. Duality gap: 0.4929407444138292, tolerance: 0.08958778358616795\n",
      "  model = cd_fast.enet_coordinate_descent_gram(\n",
      "c:\\Users\\PROFRESSOR\\AppData\\Local\\Programs\\Python\\Python312\\Lib\\site-packages\\sklearn\\linear_model\\_coordinate_descent.py:683: ConvergenceWarning: Objective did not converge. You might want to increase the number of iterations. Duality gap: 0.6330502162492735, tolerance: 0.08958778358616795\n",
      "  model = cd_fast.enet_coordinate_descent_gram(\n",
      "c:\\Users\\PROFRESSOR\\AppData\\Local\\Programs\\Python\\Python312\\Lib\\site-packages\\sklearn\\linear_model\\_coordinate_descent.py:683: ConvergenceWarning: Objective did not converge. You might want to increase the number of iterations. Duality gap: 0.599336392268583, tolerance: 0.08958778358616795\n",
      "  model = cd_fast.enet_coordinate_descent_gram(\n",
      "c:\\Users\\PROFRESSOR\\AppData\\Local\\Programs\\Python\\Python312\\Lib\\site-packages\\sklearn\\linear_model\\_coordinate_descent.py:683: ConvergenceWarning: Objective did not converge. You might want to increase the number of iterations. Duality gap: 0.5990955191775811, tolerance: 0.08958778358616795\n",
      "  model = cd_fast.enet_coordinate_descent_gram(\n",
      "c:\\Users\\PROFRESSOR\\AppData\\Local\\Programs\\Python\\Python312\\Lib\\site-packages\\sklearn\\linear_model\\_coordinate_descent.py:683: ConvergenceWarning: Objective did not converge. You might want to increase the number of iterations. Duality gap: 0.10387843568412336, tolerance: 0.08958778358616795\n",
      "  model = cd_fast.enet_coordinate_descent_gram(\n",
      "c:\\Users\\PROFRESSOR\\AppData\\Local\\Programs\\Python\\Python312\\Lib\\site-packages\\sklearn\\linear_model\\_coordinate_descent.py:683: ConvergenceWarning: Objective did not converge. You might want to increase the number of iterations. Duality gap: 0.09144123333015841, tolerance: 0.08958778358616795\n",
      "  model = cd_fast.enet_coordinate_descent_gram(\n",
      "c:\\Users\\PROFRESSOR\\AppData\\Local\\Programs\\Python\\Python312\\Lib\\site-packages\\sklearn\\linear_model\\_coordinate_descent.py:683: ConvergenceWarning: Objective did not converge. You might want to increase the number of iterations. Duality gap: 0.0998898357073017, tolerance: 0.08958778358616795\n",
      "  model = cd_fast.enet_coordinate_descent_gram(\n",
      "c:\\Users\\PROFRESSOR\\AppData\\Local\\Programs\\Python\\Python312\\Lib\\site-packages\\sklearn\\linear_model\\_coordinate_descent.py:683: ConvergenceWarning: Objective did not converge. You might want to increase the number of iterations. Duality gap: 0.21852657862518754, tolerance: 0.08958778358616795\n",
      "  model = cd_fast.enet_coordinate_descent_gram(\n",
      "c:\\Users\\PROFRESSOR\\AppData\\Local\\Programs\\Python\\Python312\\Lib\\site-packages\\sklearn\\linear_model\\_coordinate_descent.py:683: ConvergenceWarning: Objective did not converge. You might want to increase the number of iterations. Duality gap: 1.1088082780131572, tolerance: 0.08958778358616795\n",
      "  model = cd_fast.enet_coordinate_descent_gram(\n",
      "c:\\Users\\PROFRESSOR\\AppData\\Local\\Programs\\Python\\Python312\\Lib\\site-packages\\sklearn\\linear_model\\_coordinate_descent.py:683: ConvergenceWarning: Objective did not converge. You might want to increase the number of iterations. Duality gap: 1.951663180771959, tolerance: 0.08958778358616795\n",
      "  model = cd_fast.enet_coordinate_descent_gram(\n",
      "c:\\Users\\PROFRESSOR\\AppData\\Local\\Programs\\Python\\Python312\\Lib\\site-packages\\sklearn\\linear_model\\_coordinate_descent.py:683: ConvergenceWarning: Objective did not converge. You might want to increase the number of iterations. Duality gap: 2.428061014149108, tolerance: 0.08958778358616795\n",
      "  model = cd_fast.enet_coordinate_descent_gram(\n",
      "c:\\Users\\PROFRESSOR\\AppData\\Local\\Programs\\Python\\Python312\\Lib\\site-packages\\sklearn\\linear_model\\_coordinate_descent.py:683: ConvergenceWarning: Objective did not converge. You might want to increase the number of iterations. Duality gap: 2.845558546230677, tolerance: 0.08958778358616795\n",
      "  model = cd_fast.enet_coordinate_descent_gram(\n",
      "c:\\Users\\PROFRESSOR\\AppData\\Local\\Programs\\Python\\Python312\\Lib\\site-packages\\sklearn\\linear_model\\_coordinate_descent.py:683: ConvergenceWarning: Objective did not converge. You might want to increase the number of iterations. Duality gap: 0.49806024846577657, tolerance: 0.08738669587595255\n",
      "  model = cd_fast.enet_coordinate_descent_gram(\n",
      "c:\\Users\\PROFRESSOR\\AppData\\Local\\Programs\\Python\\Python312\\Lib\\site-packages\\sklearn\\linear_model\\_coordinate_descent.py:683: ConvergenceWarning: Objective did not converge. You might want to increase the number of iterations. Duality gap: 0.11395394679709625, tolerance: 0.08738669587595255\n",
      "  model = cd_fast.enet_coordinate_descent_gram(\n",
      "c:\\Users\\PROFRESSOR\\AppData\\Local\\Programs\\Python\\Python312\\Lib\\site-packages\\sklearn\\linear_model\\_coordinate_descent.py:683: ConvergenceWarning: Objective did not converge. You might want to increase the number of iterations. Duality gap: 0.09338778044286755, tolerance: 0.08738669587595255\n",
      "  model = cd_fast.enet_coordinate_descent_gram(\n",
      "c:\\Users\\PROFRESSOR\\AppData\\Local\\Programs\\Python\\Python312\\Lib\\site-packages\\sklearn\\linear_model\\_coordinate_descent.py:683: ConvergenceWarning: Objective did not converge. You might want to increase the number of iterations. Duality gap: 0.4319354617809381, tolerance: 0.08738669587595255\n",
      "  model = cd_fast.enet_coordinate_descent_gram(\n",
      "c:\\Users\\PROFRESSOR\\AppData\\Local\\Programs\\Python\\Python312\\Lib\\site-packages\\sklearn\\linear_model\\_coordinate_descent.py:683: ConvergenceWarning: Objective did not converge. You might want to increase the number of iterations. Duality gap: 0.5314808066112278, tolerance: 0.08738669587595255\n",
      "  model = cd_fast.enet_coordinate_descent_gram(\n",
      "c:\\Users\\PROFRESSOR\\AppData\\Local\\Programs\\Python\\Python312\\Lib\\site-packages\\sklearn\\linear_model\\_coordinate_descent.py:683: ConvergenceWarning: Objective did not converge. You might want to increase the number of iterations. Duality gap: 0.5613593412892897, tolerance: 0.08738669587595255\n",
      "  model = cd_fast.enet_coordinate_descent_gram(\n",
      "c:\\Users\\PROFRESSOR\\AppData\\Local\\Programs\\Python\\Python312\\Lib\\site-packages\\sklearn\\linear_model\\_coordinate_descent.py:683: ConvergenceWarning: Objective did not converge. You might want to increase the number of iterations. Duality gap: 2.1153089762497643, tolerance: 0.08738669587595255\n",
      "  model = cd_fast.enet_coordinate_descent_gram(\n",
      "c:\\Users\\PROFRESSOR\\AppData\\Local\\Programs\\Python\\Python312\\Lib\\site-packages\\sklearn\\linear_model\\_coordinate_descent.py:683: ConvergenceWarning: Objective did not converge. You might want to increase the number of iterations. Duality gap: 4.72922803511392, tolerance: 0.08738669587595255\n",
      "  model = cd_fast.enet_coordinate_descent_gram(\n",
      "c:\\Users\\PROFRESSOR\\AppData\\Local\\Programs\\Python\\Python312\\Lib\\site-packages\\sklearn\\linear_model\\_coordinate_descent.py:683: ConvergenceWarning: Objective did not converge. You might want to increase the number of iterations. Duality gap: 0.3457438083475495, tolerance: 0.08738669587595255\n",
      "  model = cd_fast.enet_coordinate_descent_gram(\n",
      "c:\\Users\\PROFRESSOR\\AppData\\Local\\Programs\\Python\\Python312\\Lib\\site-packages\\sklearn\\linear_model\\_coordinate_descent.py:683: ConvergenceWarning: Objective did not converge. You might want to increase the number of iterations. Duality gap: 0.48188489010772173, tolerance: 0.08738669587595255\n",
      "  model = cd_fast.enet_coordinate_descent_gram(\n",
      "c:\\Users\\PROFRESSOR\\AppData\\Local\\Programs\\Python\\Python312\\Lib\\site-packages\\sklearn\\linear_model\\_coordinate_descent.py:683: ConvergenceWarning: Objective did not converge. You might want to increase the number of iterations. Duality gap: 0.539525312131957, tolerance: 0.08738669587595255\n",
      "  model = cd_fast.enet_coordinate_descent_gram(\n",
      "c:\\Users\\PROFRESSOR\\AppData\\Local\\Programs\\Python\\Python312\\Lib\\site-packages\\sklearn\\linear_model\\_coordinate_descent.py:683: ConvergenceWarning: Objective did not converge. You might want to increase the number of iterations. Duality gap: 0.12682078550511733, tolerance: 0.08738669587595255\n",
      "  model = cd_fast.enet_coordinate_descent_gram(\n",
      "c:\\Users\\PROFRESSOR\\AppData\\Local\\Programs\\Python\\Python312\\Lib\\site-packages\\sklearn\\linear_model\\_coordinate_descent.py:683: ConvergenceWarning: Objective did not converge. You might want to increase the number of iterations. Duality gap: 0.09584448633000875, tolerance: 0.08738669587595255\n",
      "  model = cd_fast.enet_coordinate_descent_gram(\n",
      "c:\\Users\\PROFRESSOR\\AppData\\Local\\Programs\\Python\\Python312\\Lib\\site-packages\\sklearn\\linear_model\\_coordinate_descent.py:683: ConvergenceWarning: Objective did not converge. You might want to increase the number of iterations. Duality gap: 0.09556224118242085, tolerance: 0.08738669587595255\n",
      "  model = cd_fast.enet_coordinate_descent_gram(\n",
      "c:\\Users\\PROFRESSOR\\AppData\\Local\\Programs\\Python\\Python312\\Lib\\site-packages\\sklearn\\linear_model\\_coordinate_descent.py:683: ConvergenceWarning: Objective did not converge. You might want to increase the number of iterations. Duality gap: 0.12611300741639297, tolerance: 0.08738669587595255\n",
      "  model = cd_fast.enet_coordinate_descent_gram(\n",
      "c:\\Users\\PROFRESSOR\\AppData\\Local\\Programs\\Python\\Python312\\Lib\\site-packages\\sklearn\\linear_model\\_coordinate_descent.py:683: ConvergenceWarning: Objective did not converge. You might want to increase the number of iterations. Duality gap: 0.20603764308992822, tolerance: 0.08738669587595255\n",
      "  model = cd_fast.enet_coordinate_descent_gram(\n",
      "c:\\Users\\PROFRESSOR\\AppData\\Local\\Programs\\Python\\Python312\\Lib\\site-packages\\sklearn\\linear_model\\_coordinate_descent.py:683: ConvergenceWarning: Objective did not converge. You might want to increase the number of iterations. Duality gap: 0.31727436149637356, tolerance: 0.08738669587595255\n",
      "  model = cd_fast.enet_coordinate_descent_gram(\n",
      "c:\\Users\\PROFRESSOR\\AppData\\Local\\Programs\\Python\\Python312\\Lib\\site-packages\\sklearn\\linear_model\\_coordinate_descent.py:683: ConvergenceWarning: Objective did not converge. You might want to increase the number of iterations. Duality gap: 1.243338295971796, tolerance: 0.08738669587595255\n",
      "  model = cd_fast.enet_coordinate_descent_gram(\n",
      "c:\\Users\\PROFRESSOR\\AppData\\Local\\Programs\\Python\\Python312\\Lib\\site-packages\\sklearn\\linear_model\\_coordinate_descent.py:683: ConvergenceWarning: Objective did not converge. You might want to increase the number of iterations. Duality gap: 0.12663913824218298, tolerance: 0.08738669587595255\n",
      "  model = cd_fast.enet_coordinate_descent_gram(\n",
      "c:\\Users\\PROFRESSOR\\AppData\\Local\\Programs\\Python\\Python312\\Lib\\site-packages\\sklearn\\linear_model\\_coordinate_descent.py:683: ConvergenceWarning: Objective did not converge. You might want to increase the number of iterations. Duality gap: 0.15494226933157051, tolerance: 0.08738669587595255\n",
      "  model = cd_fast.enet_coordinate_descent_gram(\n",
      "c:\\Users\\PROFRESSOR\\AppData\\Local\\Programs\\Python\\Python312\\Lib\\site-packages\\sklearn\\linear_model\\_coordinate_descent.py:683: ConvergenceWarning: Objective did not converge. You might want to increase the number of iterations. Duality gap: 0.09187866017640545, tolerance: 0.08738669587595255\n",
      "  model = cd_fast.enet_coordinate_descent_gram(\n",
      "c:\\Users\\PROFRESSOR\\AppData\\Local\\Programs\\Python\\Python312\\Lib\\site-packages\\sklearn\\linear_model\\_coordinate_descent.py:697: ConvergenceWarning: Objective did not converge. You might want to increase the number of iterations, check the scale of the features or consider increasing regularisation. Duality gap: 1.380e+01, tolerance: 1.106e-01\n",
      "  model = cd_fast.enet_coordinate_descent(\n"
     ]
    }
   ],
   "source": [
    "from sklearn.linear_model import LassoCV\n",
    "lassoCV_model_poly = LassoCV()\n",
    "lassoCV_model_poly.fit(X_train_poly,y_train)\n",
    "y_pred_poly_lasso = lassoCV_model_poly.predict(X_test_poly)"
   ]
  },
  {
   "cell_type": "code",
   "execution_count": 216,
   "metadata": {},
   "outputs": [
    {
     "name": "stdout",
     "output_type": "stream",
     "text": [
      "Mean absolute error of Polynomial (lasso CV) regression model is:  0.147558341963593\n",
      "R2 score  of Polynomial (lassoCV) regression model is:  0.7585732595385861\n"
     ]
    }
   ],
   "source": [
    "from sklearn.metrics import mean_absolute_error, r2_score\n",
    "mae = mean_absolute_error(y_test,y_pred_poly_lasso)\n",
    "score = r2_score(y_test,y_pred_poly_lasso)\n",
    "print(\"Mean absolute error of Polynomial (lasso CV) regression model is: \", mae)\n",
    "print(\"R2 score  of Polynomial (lassoCV) regression model is: \", score)"
   ]
  },
  {
   "cell_type": "code",
   "execution_count": 217,
   "metadata": {},
   "outputs": [
    {
     "data": {
      "text/plain": [
       "<matplotlib.collections.PathCollection at 0x299b78be5a0>"
      ]
     },
     "execution_count": 217,
     "metadata": {},
     "output_type": "execute_result"
    },
    {
     "data": {
      "image/png": "[encoded data removed]",
      "text/plain": [
       "<Figure size 640x480 with 1 Axes>"
      ]
     },
     "metadata": {},
     "output_type": "display_data"
    }
   ],
   "source": [
    "plt.scatter(y_test,y_pred_poly_lasso)"
   ]
  },
  {
   "cell_type": "code",
   "execution_count": 218,
   "metadata": {},
   "outputs": [
    {
     "name": "stderr",
     "output_type": "stream",
     "text": [
      "c:\\Users\\PROFRESSOR\\AppData\\Local\\Programs\\Python\\Python312\\Lib\\site-packages\\sklearn\\linear_model\\_coordinate_descent.py:683: ConvergenceWarning: Objective did not converge. You might want to increase the number of iterations. Duality gap: 0.6269189989232586, tolerance: 0.0882525925568263\n",
      "  model = cd_fast.enet_coordinate_descent_gram(\n",
      "c:\\Users\\PROFRESSOR\\AppData\\Local\\Programs\\Python\\Python312\\Lib\\site-packages\\sklearn\\linear_model\\_coordinate_descent.py:683: ConvergenceWarning: Objective did not converge. You might want to increase the number of iterations. Duality gap: 0.22822756685224022, tolerance: 0.0882525925568263\n",
      "  model = cd_fast.enet_coordinate_descent_gram(\n",
      "c:\\Users\\PROFRESSOR\\AppData\\Local\\Programs\\Python\\Python312\\Lib\\site-packages\\sklearn\\linear_model\\_coordinate_descent.py:683: ConvergenceWarning: Objective did not converge. You might want to increase the number of iterations. Duality gap: 0.3431506670812041, tolerance: 0.0882525925568263\n",
      "  model = cd_fast.enet_coordinate_descent_gram(\n",
      "c:\\Users\\PROFRESSOR\\AppData\\Local\\Programs\\Python\\Python312\\Lib\\site-packages\\sklearn\\linear_model\\_coordinate_descent.py:683: ConvergenceWarning: Objective did not converge. You might want to increase the number of iterations. Duality gap: 0.33760047293452544, tolerance: 0.0882525925568263\n",
      "  model = cd_fast.enet_coordinate_descent_gram(\n",
      "c:\\Users\\PROFRESSOR\\AppData\\Local\\Programs\\Python\\Python312\\Lib\\site-packages\\sklearn\\linear_model\\_coordinate_descent.py:683: ConvergenceWarning: Objective did not converge. You might want to increase the number of iterations. Duality gap: 0.3459035877387464, tolerance: 0.0882525925568263\n",
      "  model = cd_fast.enet_coordinate_descent_gram(\n",
      "c:\\Users\\PROFRESSOR\\AppData\\Local\\Programs\\Python\\Python312\\Lib\\site-packages\\sklearn\\linear_model\\_coordinate_descent.py:683: ConvergenceWarning: Objective did not converge. You might want to increase the number of iterations. Duality gap: 3.0137650820530553, tolerance: 0.0882525925568263\n",
      "  model = cd_fast.enet_coordinate_descent_gram(\n",
      "c:\\Users\\PROFRESSOR\\AppData\\Local\\Programs\\Python\\Python312\\Lib\\site-packages\\sklearn\\linear_model\\_coordinate_descent.py:683: ConvergenceWarning: Objective did not converge. You might want to increase the number of iterations. Duality gap: 0.12444706214583334, tolerance: 0.0882525925568263\n",
      "  model = cd_fast.enet_coordinate_descent_gram(\n",
      "c:\\Users\\PROFRESSOR\\AppData\\Local\\Programs\\Python\\Python312\\Lib\\site-packages\\sklearn\\linear_model\\_coordinate_descent.py:683: ConvergenceWarning: Objective did not converge. You might want to increase the number of iterations. Duality gap: 0.1887145115724138, tolerance: 0.0882525925568263\n",
      "  model = cd_fast.enet_coordinate_descent_gram(\n",
      "c:\\Users\\PROFRESSOR\\AppData\\Local\\Programs\\Python\\Python312\\Lib\\site-packages\\sklearn\\linear_model\\_coordinate_descent.py:683: ConvergenceWarning: Objective did not converge. You might want to increase the number of iterations. Duality gap: 0.11481834161466509, tolerance: 0.0882525925568263\n",
      "  model = cd_fast.enet_coordinate_descent_gram(\n",
      "c:\\Users\\PROFRESSOR\\AppData\\Local\\Programs\\Python\\Python312\\Lib\\site-packages\\sklearn\\linear_model\\_coordinate_descent.py:683: ConvergenceWarning: Objective did not converge. You might want to increase the number of iterations. Duality gap: 0.3836246455063872, tolerance: 0.0882525925568263\n",
      "  model = cd_fast.enet_coordinate_descent_gram(\n",
      "c:\\Users\\PROFRESSOR\\AppData\\Local\\Programs\\Python\\Python312\\Lib\\site-packages\\sklearn\\linear_model\\_coordinate_descent.py:683: ConvergenceWarning: Objective did not converge. You might want to increase the number of iterations. Duality gap: 0.5424104107541723, tolerance: 0.0882525925568263\n",
      "  model = cd_fast.enet_coordinate_descent_gram(\n",
      "c:\\Users\\PROFRESSOR\\AppData\\Local\\Programs\\Python\\Python312\\Lib\\site-packages\\sklearn\\linear_model\\_coordinate_descent.py:683: ConvergenceWarning: Objective did not converge. You might want to increase the number of iterations. Duality gap: 0.5953182269886668, tolerance: 0.0882525925568263\n",
      "  model = cd_fast.enet_coordinate_descent_gram(\n",
      "c:\\Users\\PROFRESSOR\\AppData\\Local\\Programs\\Python\\Python312\\Lib\\site-packages\\sklearn\\linear_model\\_coordinate_descent.py:683: ConvergenceWarning: Objective did not converge. You might want to increase the number of iterations. Duality gap: 2.6141524880295606, tolerance: 0.0882525925568263\n",
      "  model = cd_fast.enet_coordinate_descent_gram(\n",
      "c:\\Users\\PROFRESSOR\\AppData\\Local\\Programs\\Python\\Python312\\Lib\\site-packages\\sklearn\\linear_model\\_coordinate_descent.py:683: ConvergenceWarning: Objective did not converge. You might want to increase the number of iterations. Duality gap: 8.562427457693815, tolerance: 0.0882525925568263\n",
      "  model = cd_fast.enet_coordinate_descent_gram(\n",
      "c:\\Users\\PROFRESSOR\\AppData\\Local\\Programs\\Python\\Python312\\Lib\\site-packages\\sklearn\\linear_model\\_coordinate_descent.py:683: ConvergenceWarning: Objective did not converge. You might want to increase the number of iterations. Duality gap: 0.4052330246924498, tolerance: 0.08915287221511997\n",
      "  model = cd_fast.enet_coordinate_descent_gram(\n",
      "c:\\Users\\PROFRESSOR\\AppData\\Local\\Programs\\Python\\Python312\\Lib\\site-packages\\sklearn\\linear_model\\_coordinate_descent.py:683: ConvergenceWarning: Objective did not converge. You might want to increase the number of iterations. Duality gap: 0.24206369878999112, tolerance: 0.08915287221511997\n",
      "  model = cd_fast.enet_coordinate_descent_gram(\n",
      "c:\\Users\\PROFRESSOR\\AppData\\Local\\Programs\\Python\\Python312\\Lib\\site-packages\\sklearn\\linear_model\\_coordinate_descent.py:683: ConvergenceWarning: Objective did not converge. You might want to increase the number of iterations. Duality gap: 0.39419315049843817, tolerance: 0.08915287221511997\n",
      "  model = cd_fast.enet_coordinate_descent_gram(\n",
      "c:\\Users\\PROFRESSOR\\AppData\\Local\\Programs\\Python\\Python312\\Lib\\site-packages\\sklearn\\linear_model\\_coordinate_descent.py:683: ConvergenceWarning: Objective did not converge. You might want to increase the number of iterations. Duality gap: 0.25160790870847904, tolerance: 0.08915287221511997\n",
      "  model = cd_fast.enet_coordinate_descent_gram(\n",
      "c:\\Users\\PROFRESSOR\\AppData\\Local\\Programs\\Python\\Python312\\Lib\\site-packages\\sklearn\\linear_model\\_coordinate_descent.py:683: ConvergenceWarning: Objective did not converge. You might want to increase the number of iterations. Duality gap: 0.09425841370648413, tolerance: 0.08915287221511997\n",
      "  model = cd_fast.enet_coordinate_descent_gram(\n",
      "c:\\Users\\PROFRESSOR\\AppData\\Local\\Programs\\Python\\Python312\\Lib\\site-packages\\sklearn\\linear_model\\_coordinate_descent.py:683: ConvergenceWarning: Objective did not converge. You might want to increase the number of iterations. Duality gap: 0.13637070948709606, tolerance: 0.08915287221511997\n",
      "  model = cd_fast.enet_coordinate_descent_gram(\n",
      "c:\\Users\\PROFRESSOR\\AppData\\Local\\Programs\\Python\\Python312\\Lib\\site-packages\\sklearn\\linear_model\\_coordinate_descent.py:683: ConvergenceWarning: Objective did not converge. You might want to increase the number of iterations. Duality gap: 0.15152017619925573, tolerance: 0.08915287221511997\n",
      "  model = cd_fast.enet_coordinate_descent_gram(\n",
      "c:\\Users\\PROFRESSOR\\AppData\\Local\\Programs\\Python\\Python312\\Lib\\site-packages\\sklearn\\linear_model\\_coordinate_descent.py:683: ConvergenceWarning: Objective did not converge. You might want to increase the number of iterations. Duality gap: 0.15974475334070348, tolerance: 0.08915287221511997\n",
      "  model = cd_fast.enet_coordinate_descent_gram(\n",
      "c:\\Users\\PROFRESSOR\\AppData\\Local\\Programs\\Python\\Python312\\Lib\\site-packages\\sklearn\\linear_model\\_coordinate_descent.py:683: ConvergenceWarning: Objective did not converge. You might want to increase the number of iterations. Duality gap: 9.336485347871104, tolerance: 0.08915287221511997\n",
      "  model = cd_fast.enet_coordinate_descent_gram(\n",
      "c:\\Users\\PROFRESSOR\\AppData\\Local\\Programs\\Python\\Python312\\Lib\\site-packages\\sklearn\\linear_model\\_coordinate_descent.py:683: ConvergenceWarning: Objective did not converge. You might want to increase the number of iterations. Duality gap: 9.504563271642496, tolerance: 0.08915287221511997\n",
      "  model = cd_fast.enet_coordinate_descent_gram(\n",
      "c:\\Users\\PROFRESSOR\\AppData\\Local\\Programs\\Python\\Python312\\Lib\\site-packages\\sklearn\\linear_model\\_coordinate_descent.py:683: ConvergenceWarning: Objective did not converge. You might want to increase the number of iterations. Duality gap: 0.09856140360079735, tolerance: 0.08915287221511997\n",
      "  model = cd_fast.enet_coordinate_descent_gram(\n",
      "c:\\Users\\PROFRESSOR\\AppData\\Local\\Programs\\Python\\Python312\\Lib\\site-packages\\sklearn\\linear_model\\_coordinate_descent.py:683: ConvergenceWarning: Objective did not converge. You might want to increase the number of iterations. Duality gap: 0.3532482465043927, tolerance: 0.08915287221511997\n",
      "  model = cd_fast.enet_coordinate_descent_gram(\n",
      "c:\\Users\\PROFRESSOR\\AppData\\Local\\Programs\\Python\\Python312\\Lib\\site-packages\\sklearn\\linear_model\\_coordinate_descent.py:683: ConvergenceWarning: Objective did not converge. You might want to increase the number of iterations. Duality gap: 0.14282571922166198, tolerance: 0.08915287221511997\n",
      "  model = cd_fast.enet_coordinate_descent_gram(\n",
      "c:\\Users\\PROFRESSOR\\AppData\\Local\\Programs\\Python\\Python312\\Lib\\site-packages\\sklearn\\linear_model\\_coordinate_descent.py:683: ConvergenceWarning: Objective did not converge. You might want to increase the number of iterations. Duality gap: 0.8800412239425839, tolerance: 0.08915287221511997\n",
      "  model = cd_fast.enet_coordinate_descent_gram(\n",
      "c:\\Users\\PROFRESSOR\\AppData\\Local\\Programs\\Python\\Python312\\Lib\\site-packages\\sklearn\\linear_model\\_coordinate_descent.py:683: ConvergenceWarning: Objective did not converge. You might want to increase the number of iterations. Duality gap: 4.121156295483331, tolerance: 0.08915287221511997\n",
      "  model = cd_fast.enet_coordinate_descent_gram(\n",
      "c:\\Users\\PROFRESSOR\\AppData\\Local\\Programs\\Python\\Python312\\Lib\\site-packages\\sklearn\\linear_model\\_coordinate_descent.py:683: ConvergenceWarning: Objective did not converge. You might want to increase the number of iterations. Duality gap: 0.13585248481257395, tolerance: 0.08806493690468893\n",
      "  model = cd_fast.enet_coordinate_descent_gram(\n",
      "c:\\Users\\PROFRESSOR\\AppData\\Local\\Programs\\Python\\Python312\\Lib\\site-packages\\sklearn\\linear_model\\_coordinate_descent.py:683: ConvergenceWarning: Objective did not converge. You might want to increase the number of iterations. Duality gap: 0.6776643074775279, tolerance: 0.08806493690468893\n",
      "  model = cd_fast.enet_coordinate_descent_gram(\n",
      "c:\\Users\\PROFRESSOR\\AppData\\Local\\Programs\\Python\\Python312\\Lib\\site-packages\\sklearn\\linear_model\\_coordinate_descent.py:683: ConvergenceWarning: Objective did not converge. You might want to increase the number of iterations. Duality gap: 0.10557224799856613, tolerance: 0.08806493690468893\n",
      "  model = cd_fast.enet_coordinate_descent_gram(\n",
      "c:\\Users\\PROFRESSOR\\AppData\\Local\\Programs\\Python\\Python312\\Lib\\site-packages\\sklearn\\linear_model\\_coordinate_descent.py:683: ConvergenceWarning: Objective did not converge. You might want to increase the number of iterations. Duality gap: 0.16624973109674102, tolerance: 0.08806493690468893\n",
      "  model = cd_fast.enet_coordinate_descent_gram(\n",
      "c:\\Users\\PROFRESSOR\\AppData\\Local\\Programs\\Python\\Python312\\Lib\\site-packages\\sklearn\\linear_model\\_coordinate_descent.py:683: ConvergenceWarning: Objective did not converge. You might want to increase the number of iterations. Duality gap: 0.8089919262852732, tolerance: 0.08806493690468893\n",
      "  model = cd_fast.enet_coordinate_descent_gram(\n",
      "c:\\Users\\PROFRESSOR\\AppData\\Local\\Programs\\Python\\Python312\\Lib\\site-packages\\sklearn\\linear_model\\_coordinate_descent.py:683: ConvergenceWarning: Objective did not converge. You might want to increase the number of iterations. Duality gap: 0.7479272343998673, tolerance: 0.08806493690468893\n",
      "  model = cd_fast.enet_coordinate_descent_gram(\n",
      "c:\\Users\\PROFRESSOR\\AppData\\Local\\Programs\\Python\\Python312\\Lib\\site-packages\\sklearn\\linear_model\\_coordinate_descent.py:683: ConvergenceWarning: Objective did not converge. You might want to increase the number of iterations. Duality gap: 0.7344970737735821, tolerance: 0.08806493690468893\n",
      "  model = cd_fast.enet_coordinate_descent_gram(\n",
      "c:\\Users\\PROFRESSOR\\AppData\\Local\\Programs\\Python\\Python312\\Lib\\site-packages\\sklearn\\linear_model\\_coordinate_descent.py:683: ConvergenceWarning: Objective did not converge. You might want to increase the number of iterations. Duality gap: 0.38345792716330607, tolerance: 0.08806493690468893\n",
      "  model = cd_fast.enet_coordinate_descent_gram(\n",
      "c:\\Users\\PROFRESSOR\\AppData\\Local\\Programs\\Python\\Python312\\Lib\\site-packages\\sklearn\\linear_model\\_coordinate_descent.py:683: ConvergenceWarning: Objective did not converge. You might want to increase the number of iterations. Duality gap: 3.6689634243530236, tolerance: 0.08806493690468893\n",
      "  model = cd_fast.enet_coordinate_descent_gram(\n",
      "c:\\Users\\PROFRESSOR\\AppData\\Local\\Programs\\Python\\Python312\\Lib\\site-packages\\sklearn\\linear_model\\_coordinate_descent.py:683: ConvergenceWarning: Objective did not converge. You might want to increase the number of iterations. Duality gap: 4.635333727775475, tolerance: 0.08806493690468893\n",
      "  model = cd_fast.enet_coordinate_descent_gram(\n",
      "c:\\Users\\PROFRESSOR\\AppData\\Local\\Programs\\Python\\Python312\\Lib\\site-packages\\sklearn\\linear_model\\_coordinate_descent.py:683: ConvergenceWarning: Objective did not converge. You might want to increase the number of iterations. Duality gap: 0.2507762211535862, tolerance: 0.08806493690468893\n",
      "  model = cd_fast.enet_coordinate_descent_gram(\n",
      "c:\\Users\\PROFRESSOR\\AppData\\Local\\Programs\\Python\\Python312\\Lib\\site-packages\\sklearn\\linear_model\\_coordinate_descent.py:683: ConvergenceWarning: Objective did not converge. You might want to increase the number of iterations. Duality gap: 0.584323441909703, tolerance: 0.08806493690468893\n",
      "  model = cd_fast.enet_coordinate_descent_gram(\n",
      "c:\\Users\\PROFRESSOR\\AppData\\Local\\Programs\\Python\\Python312\\Lib\\site-packages\\sklearn\\linear_model\\_coordinate_descent.py:683: ConvergenceWarning: Objective did not converge. You might want to increase the number of iterations. Duality gap: 3.417570011792577, tolerance: 0.08806493690468893\n",
      "  model = cd_fast.enet_coordinate_descent_gram(\n",
      "c:\\Users\\PROFRESSOR\\AppData\\Local\\Programs\\Python\\Python312\\Lib\\site-packages\\sklearn\\linear_model\\_coordinate_descent.py:683: ConvergenceWarning: Objective did not converge. You might want to increase the number of iterations. Duality gap: 9.351945534652174, tolerance: 0.08806493690468893\n",
      "  model = cd_fast.enet_coordinate_descent_gram(\n",
      "c:\\Users\\PROFRESSOR\\AppData\\Local\\Programs\\Python\\Python312\\Lib\\site-packages\\sklearn\\linear_model\\_coordinate_descent.py:683: ConvergenceWarning: Objective did not converge. You might want to increase the number of iterations. Duality gap: 14.053002177550411, tolerance: 0.08806493690468893\n",
      "  model = cd_fast.enet_coordinate_descent_gram(\n",
      "c:\\Users\\PROFRESSOR\\AppData\\Local\\Programs\\Python\\Python312\\Lib\\site-packages\\sklearn\\linear_model\\_coordinate_descent.py:683: ConvergenceWarning: Objective did not converge. You might want to increase the number of iterations. Duality gap: 7.395721260819727, tolerance: 0.08806493690468893\n",
      "  model = cd_fast.enet_coordinate_descent_gram(\n",
      "c:\\Users\\PROFRESSOR\\AppData\\Local\\Programs\\Python\\Python312\\Lib\\site-packages\\sklearn\\linear_model\\_coordinate_descent.py:683: ConvergenceWarning: Objective did not converge. You might want to increase the number of iterations. Duality gap: 1.9941837412354744, tolerance: 0.08806493690468893\n",
      "  model = cd_fast.enet_coordinate_descent_gram(\n",
      "c:\\Users\\PROFRESSOR\\AppData\\Local\\Programs\\Python\\Python312\\Lib\\site-packages\\sklearn\\linear_model\\_coordinate_descent.py:683: ConvergenceWarning: Objective did not converge. You might want to increase the number of iterations. Duality gap: 0.9618098556215102, tolerance: 0.08806493690468893\n",
      "  model = cd_fast.enet_coordinate_descent_gram(\n",
      "c:\\Users\\PROFRESSOR\\AppData\\Local\\Programs\\Python\\Python312\\Lib\\site-packages\\sklearn\\linear_model\\_coordinate_descent.py:683: ConvergenceWarning: Objective did not converge. You might want to increase the number of iterations. Duality gap: 0.3133778622963064, tolerance: 0.08806493690468893\n",
      "  model = cd_fast.enet_coordinate_descent_gram(\n",
      "c:\\Users\\PROFRESSOR\\AppData\\Local\\Programs\\Python\\Python312\\Lib\\site-packages\\sklearn\\linear_model\\_coordinate_descent.py:683: ConvergenceWarning: Objective did not converge. You might want to increase the number of iterations. Duality gap: 0.3962483731102111, tolerance: 0.08958778358616795\n",
      "  model = cd_fast.enet_coordinate_descent_gram(\n",
      "c:\\Users\\PROFRESSOR\\AppData\\Local\\Programs\\Python\\Python312\\Lib\\site-packages\\sklearn\\linear_model\\_coordinate_descent.py:683: ConvergenceWarning: Objective did not converge. You might want to increase the number of iterations. Duality gap: 0.40753695325742, tolerance: 0.08958778358616795\n",
      "  model = cd_fast.enet_coordinate_descent_gram(\n",
      "c:\\Users\\PROFRESSOR\\AppData\\Local\\Programs\\Python\\Python312\\Lib\\site-packages\\sklearn\\linear_model\\_coordinate_descent.py:683: ConvergenceWarning: Objective did not converge. You might want to increase the number of iterations. Duality gap: 0.3799792670130273, tolerance: 0.08958778358616795\n",
      "  model = cd_fast.enet_coordinate_descent_gram(\n",
      "c:\\Users\\PROFRESSOR\\AppData\\Local\\Programs\\Python\\Python312\\Lib\\site-packages\\sklearn\\linear_model\\_coordinate_descent.py:683: ConvergenceWarning: Objective did not converge. You might want to increase the number of iterations. Duality gap: 0.43475784668117967, tolerance: 0.08958778358616795\n",
      "  model = cd_fast.enet_coordinate_descent_gram(\n",
      "c:\\Users\\PROFRESSOR\\AppData\\Local\\Programs\\Python\\Python312\\Lib\\site-packages\\sklearn\\linear_model\\_coordinate_descent.py:683: ConvergenceWarning: Objective did not converge. You might want to increase the number of iterations. Duality gap: 0.46863198160087904, tolerance: 0.08958778358616795\n",
      "  model = cd_fast.enet_coordinate_descent_gram(\n",
      "c:\\Users\\PROFRESSOR\\AppData\\Local\\Programs\\Python\\Python312\\Lib\\site-packages\\sklearn\\linear_model\\_coordinate_descent.py:683: ConvergenceWarning: Objective did not converge. You might want to increase the number of iterations. Duality gap: 0.1579607001956731, tolerance: 0.08958778358616795\n",
      "  model = cd_fast.enet_coordinate_descent_gram(\n",
      "c:\\Users\\PROFRESSOR\\AppData\\Local\\Programs\\Python\\Python312\\Lib\\site-packages\\sklearn\\linear_model\\_coordinate_descent.py:683: ConvergenceWarning: Objective did not converge. You might want to increase the number of iterations. Duality gap: 0.22124093477106044, tolerance: 0.08958778358616795\n",
      "  model = cd_fast.enet_coordinate_descent_gram(\n",
      "c:\\Users\\PROFRESSOR\\AppData\\Local\\Programs\\Python\\Python312\\Lib\\site-packages\\sklearn\\linear_model\\_coordinate_descent.py:683: ConvergenceWarning: Objective did not converge. You might want to increase the number of iterations. Duality gap: 0.24515586761754093, tolerance: 0.08958778358616795\n",
      "  model = cd_fast.enet_coordinate_descent_gram(\n",
      "c:\\Users\\PROFRESSOR\\AppData\\Local\\Programs\\Python\\Python312\\Lib\\site-packages\\sklearn\\linear_model\\_coordinate_descent.py:683: ConvergenceWarning: Objective did not converge. You might want to increase the number of iterations. Duality gap: 0.25032791033265767, tolerance: 0.08958778358616795\n",
      "  model = cd_fast.enet_coordinate_descent_gram(\n",
      "c:\\Users\\PROFRESSOR\\AppData\\Local\\Programs\\Python\\Python312\\Lib\\site-packages\\sklearn\\linear_model\\_coordinate_descent.py:683: ConvergenceWarning: Objective did not converge. You might want to increase the number of iterations. Duality gap: 0.1410882271079572, tolerance: 0.08958778358616795\n",
      "  model = cd_fast.enet_coordinate_descent_gram(\n",
      "c:\\Users\\PROFRESSOR\\AppData\\Local\\Programs\\Python\\Python312\\Lib\\site-packages\\sklearn\\linear_model\\_coordinate_descent.py:683: ConvergenceWarning: Objective did not converge. You might want to increase the number of iterations. Duality gap: 1.379582419466118, tolerance: 0.08958778358616795\n",
      "  model = cd_fast.enet_coordinate_descent_gram(\n",
      "c:\\Users\\PROFRESSOR\\AppData\\Local\\Programs\\Python\\Python312\\Lib\\site-packages\\sklearn\\linear_model\\_coordinate_descent.py:683: ConvergenceWarning: Objective did not converge. You might want to increase the number of iterations. Duality gap: 2.019345902228963, tolerance: 0.08958778358616795\n",
      "  model = cd_fast.enet_coordinate_descent_gram(\n",
      "c:\\Users\\PROFRESSOR\\AppData\\Local\\Programs\\Python\\Python312\\Lib\\site-packages\\sklearn\\linear_model\\_coordinate_descent.py:683: ConvergenceWarning: Objective did not converge. You might want to increase the number of iterations. Duality gap: 2.25370906665475, tolerance: 0.08958778358616795\n",
      "  model = cd_fast.enet_coordinate_descent_gram(\n",
      "c:\\Users\\PROFRESSOR\\AppData\\Local\\Programs\\Python\\Python312\\Lib\\site-packages\\sklearn\\linear_model\\_coordinate_descent.py:683: ConvergenceWarning: Objective did not converge. You might want to increase the number of iterations. Duality gap: 0.10063696345071094, tolerance: 0.08738669587595255\n",
      "  model = cd_fast.enet_coordinate_descent_gram(\n",
      "c:\\Users\\PROFRESSOR\\AppData\\Local\\Programs\\Python\\Python312\\Lib\\site-packages\\sklearn\\linear_model\\_coordinate_descent.py:683: ConvergenceWarning: Objective did not converge. You might want to increase the number of iterations. Duality gap: 0.34406037113382126, tolerance: 0.08738669587595255\n",
      "  model = cd_fast.enet_coordinate_descent_gram(\n",
      "c:\\Users\\PROFRESSOR\\AppData\\Local\\Programs\\Python\\Python312\\Lib\\site-packages\\sklearn\\linear_model\\_coordinate_descent.py:683: ConvergenceWarning: Objective did not converge. You might want to increase the number of iterations. Duality gap: 0.36899593237166073, tolerance: 0.08738669587595255\n",
      "  model = cd_fast.enet_coordinate_descent_gram(\n",
      "c:\\Users\\PROFRESSOR\\AppData\\Local\\Programs\\Python\\Python312\\Lib\\site-packages\\sklearn\\linear_model\\_coordinate_descent.py:683: ConvergenceWarning: Objective did not converge. You might want to increase the number of iterations. Duality gap: 0.38714662916061116, tolerance: 0.08738669587595255\n",
      "  model = cd_fast.enet_coordinate_descent_gram(\n",
      "c:\\Users\\PROFRESSOR\\AppData\\Local\\Programs\\Python\\Python312\\Lib\\site-packages\\sklearn\\linear_model\\_coordinate_descent.py:683: ConvergenceWarning: Objective did not converge. You might want to increase the number of iterations. Duality gap: 0.35371029044938496, tolerance: 0.08738669587595255\n",
      "  model = cd_fast.enet_coordinate_descent_gram(\n",
      "c:\\Users\\PROFRESSOR\\AppData\\Local\\Programs\\Python\\Python312\\Lib\\site-packages\\sklearn\\linear_model\\_coordinate_descent.py:683: ConvergenceWarning: Objective did not converge. You might want to increase the number of iterations. Duality gap: 1.0403554833551993, tolerance: 0.08738669587595255\n",
      "  model = cd_fast.enet_coordinate_descent_gram(\n",
      "c:\\Users\\PROFRESSOR\\AppData\\Local\\Programs\\Python\\Python312\\Lib\\site-packages\\sklearn\\linear_model\\_coordinate_descent.py:683: ConvergenceWarning: Objective did not converge. You might want to increase the number of iterations. Duality gap: 3.1907205836157573, tolerance: 0.08738669587595255\n",
      "  model = cd_fast.enet_coordinate_descent_gram(\n",
      "c:\\Users\\PROFRESSOR\\AppData\\Local\\Programs\\Python\\Python312\\Lib\\site-packages\\sklearn\\linear_model\\_coordinate_descent.py:683: ConvergenceWarning: Objective did not converge. You might want to increase the number of iterations. Duality gap: 0.2784511827951235, tolerance: 0.08738669587595255\n",
      "  model = cd_fast.enet_coordinate_descent_gram(\n",
      "c:\\Users\\PROFRESSOR\\AppData\\Local\\Programs\\Python\\Python312\\Lib\\site-packages\\sklearn\\linear_model\\_coordinate_descent.py:683: ConvergenceWarning: Objective did not converge. You might want to increase the number of iterations. Duality gap: 0.847181344009698, tolerance: 0.08738669587595255\n",
      "  model = cd_fast.enet_coordinate_descent_gram(\n",
      "c:\\Users\\PROFRESSOR\\AppData\\Local\\Programs\\Python\\Python312\\Lib\\site-packages\\sklearn\\linear_model\\_coordinate_descent.py:683: ConvergenceWarning: Objective did not converge. You might want to increase the number of iterations. Duality gap: 1.0669211648129533, tolerance: 0.08738669587595255\n",
      "  model = cd_fast.enet_coordinate_descent_gram(\n",
      "c:\\Users\\PROFRESSOR\\AppData\\Local\\Programs\\Python\\Python312\\Lib\\site-packages\\sklearn\\linear_model\\_coordinate_descent.py:683: ConvergenceWarning: Objective did not converge. You might want to increase the number of iterations. Duality gap: 0.2615130999139694, tolerance: 0.08738669587595255\n",
      "  model = cd_fast.enet_coordinate_descent_gram(\n",
      "c:\\Users\\PROFRESSOR\\AppData\\Local\\Programs\\Python\\Python312\\Lib\\site-packages\\sklearn\\linear_model\\_coordinate_descent.py:683: ConvergenceWarning: Objective did not converge. You might want to increase the number of iterations. Duality gap: 0.2252427403497279, tolerance: 0.08738669587595255\n",
      "  model = cd_fast.enet_coordinate_descent_gram(\n",
      "c:\\Users\\PROFRESSOR\\AppData\\Local\\Programs\\Python\\Python312\\Lib\\site-packages\\sklearn\\linear_model\\_coordinate_descent.py:683: ConvergenceWarning: Objective did not converge. You might want to increase the number of iterations. Duality gap: 5.118281567684022, tolerance: 0.08738669587595255\n",
      "  model = cd_fast.enet_coordinate_descent_gram(\n",
      "c:\\Users\\PROFRESSOR\\AppData\\Local\\Programs\\Python\\Python312\\Lib\\site-packages\\sklearn\\linear_model\\_coordinate_descent.py:683: ConvergenceWarning: Objective did not converge. You might want to increase the number of iterations. Duality gap: 7.397459434700494, tolerance: 0.08738669587595255\n",
      "  model = cd_fast.enet_coordinate_descent_gram(\n",
      "c:\\Users\\PROFRESSOR\\AppData\\Local\\Programs\\Python\\Python312\\Lib\\site-packages\\sklearn\\linear_model\\_coordinate_descent.py:683: ConvergenceWarning: Objective did not converge. You might want to increase the number of iterations. Duality gap: 13.619030731334817, tolerance: 0.08738669587595255\n",
      "  model = cd_fast.enet_coordinate_descent_gram(\n",
      "c:\\Users\\PROFRESSOR\\AppData\\Local\\Programs\\Python\\Python312\\Lib\\site-packages\\sklearn\\linear_model\\_coordinate_descent.py:683: ConvergenceWarning: Objective did not converge. You might want to increase the number of iterations. Duality gap: 36.612092348117415, tolerance: 0.08738669587595255\n",
      "  model = cd_fast.enet_coordinate_descent_gram(\n",
      "c:\\Users\\PROFRESSOR\\AppData\\Local\\Programs\\Python\\Python312\\Lib\\site-packages\\sklearn\\linear_model\\_coordinate_descent.py:683: ConvergenceWarning: Objective did not converge. You might want to increase the number of iterations. Duality gap: 17.21096810411487, tolerance: 0.08738669587595255\n",
      "  model = cd_fast.enet_coordinate_descent_gram(\n",
      "c:\\Users\\PROFRESSOR\\AppData\\Local\\Programs\\Python\\Python312\\Lib\\site-packages\\sklearn\\linear_model\\_coordinate_descent.py:683: ConvergenceWarning: Objective did not converge. You might want to increase the number of iterations. Duality gap: 2.8247479908637274, tolerance: 0.08738669587595255\n",
      "  model = cd_fast.enet_coordinate_descent_gram(\n",
      "c:\\Users\\PROFRESSOR\\AppData\\Local\\Programs\\Python\\Python312\\Lib\\site-packages\\sklearn\\linear_model\\_coordinate_descent.py:697: ConvergenceWarning: Objective did not converge. You might want to increase the number of iterations, check the scale of the features or consider increasing regularisation. Duality gap: 5.633e+01, tolerance: 1.106e-01\n",
      "  model = cd_fast.enet_coordinate_descent(\n"
     ]
    }
   ],
   "source": [
    "from sklearn.linear_model import ElasticNetCV\n",
    "model_elasticnet = ElasticNetCV()\n",
    "model_elasticnet.fit(X_train_poly,y_train)\n",
    "y_pred_poly_elastic = model_elasticnet.predict(X_test_poly)\n"
   ]
  },
  {
   "cell_type": "code",
   "execution_count": 219,
   "metadata": {},
   "outputs": [
    {
     "name": "stdout",
     "output_type": "stream",
     "text": [
      "Mean absolute error of Polynomial(elastic net) regression model is:  0.14963424846892978\n",
      "R2 score  of Polynomial(elastic net) regression model is:  0.7520191115042871\n"
     ]
    }
   ],
   "source": [
    "from sklearn.metrics import mean_absolute_error, r2_score\n",
    "mae = mean_absolute_error(y_test,y_pred_poly_elastic)\n",
    "score = r2_score(y_test,y_pred_poly_elastic)\n",
    "print(\"Mean absolute error of Polynomial(elastic net) regression model is: \", mae)\n",
    "print(\"R2 score  of Polynomial(elastic net) regression model is: \", score)"
   ]
  },
  {
   "cell_type": "code",
   "execution_count": null,
   "metadata": {},
   "outputs": [],
   "source": []
  }
 ],
 "metadata": {
  "kernelspec": {
   "display_name": "Python 3",
   "language": "python",
   "name": "python3"
  },
  "language_info": {
   "codemirror_mode": {
    "name": "ipython",
    "version": 3
   },
   "file_extension": ".py",
   "mimetype": "text/x-python",
   "name": "python",
   "nbconvert_exporter": "python",
   "pygments_lexer": "ipython3",
   "version": "3.12.6"
  }
 },
 "nbformat": 4,
 "nbformat_minor": 2
}
